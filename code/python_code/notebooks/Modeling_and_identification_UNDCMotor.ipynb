{
 "cells": [
  {
   "cell_type": "markdown",
   "id": "c9422e16-5068-4ebe-b498-e631da989eac",
   "metadata": {},
   "source": [
    "\n",
    "# Modelamiento e identificación del UNDCMotor\n",
    "\n",
    "El UNDCMotor es un minilaboratorio que permite el control de velocidad y posición de un motor DC para ilustrar los principios básicos del control autómatico.\n"
   ]
  },
  {
   "cell_type": "markdown",
   "id": "3b961e38-1df0-478e-9e27-47d673262f3d",
   "metadata": {},
   "source": [
    "## 1. Configuración"
   ]
  },
  {
   "cell_type": "markdown",
   "id": "63ea8d37-02f8-40bc-bf5d-3287d14e6666",
   "metadata": {},
   "source": [
    "\n",
    "### Detectando el broker \n",
    "\n",
    "Este código sirve para detectar la dirección del broker que está en el laboratorio. Descomente solamente para saber donde está el broker del laboratorio. __Asegúrese de instalar [nmap](https://nmap.org/download.html#windows/ \"nmap\").__"
   ]
  },
  {
   "cell_type": "code",
   "execution_count": 60,
   "id": "9f5fd2fa-c34b-4dbf-817b-b46de43a1351",
   "metadata": {},
   "outputs": [],
   "source": [
    "# s = !nmap -sn 10.203.162.*  \n",
    "# macindex = [index for index, string in enumerate(s) if  'MAC Address: B8:27:EB:EB:A9:10' in string]\n",
    "# b = s[macindex[0]-2]\n",
    "# broker = b.split()[-1]\n",
    "# print(f\"please connect to broker {broker:s}\")"
   ]
  },
  {
   "cell_type": "markdown",
   "id": "51c5d6ab-6960-46b6-82c4-92d959f3ffd0",
   "metadata": {},
   "source": [
    "\n",
    "### Instalación de la libreria unmotor\n",
    "\n",
    "Ejecutar esta instrucción en el Powershell para instalar la libreria unmotor por primera vez. __Asegúrese de instalar  [Git](https://git-scm.com/download/win/ \"Git\").__\n",
    "\n"
   ]
  },
  {
   "cell_type": "code",
   "execution_count": 15,
   "id": "0d0a5fb1-ea33-483f-b97d-cbbafcbd5cbc",
   "metadata": {
    "scrolled": true
   },
   "outputs": [
    {
     "name": "stdout",
     "output_type": "stream",
     "text": [
      "Collecting git+https://github.com/nebisman/UNDCMotor.git@main#subdirectory=code/python_code\n",
      "  Cloning https://github.com/nebisman/UNDCMotor.git (to revision main) to /tmp/pip-req-build-j4shgl6p\n",
      "  Running command git clone --filter=blob:none --quiet https://github.com/nebisman/UNDCMotor.git /tmp/pip-req-build-j4shgl6p\n",
      "  Resolved https://github.com/nebisman/UNDCMotor.git to commit caf2e12c6b7385efc644b16a87786f4958c65bc5\n",
      "  Installing build dependencies ... \u001b[?25ldone\n",
      "\u001b[?25h  Getting requirements to build wheel ... \u001b[?25ldone\n",
      "\u001b[?25h  Preparing metadata (pyproject.toml) ... \u001b[?25ldone\n",
      "\u001b[?25hCollecting iottalk-paho-mqtt (from unmotor==0.1.13)\n",
      "  Using cached iottalk_paho_mqtt-1.5.1-py3-none-any.whl.metadata (46 kB)\n",
      "Collecting control (from unmotor==0.1.13)\n",
      "  Using cached control-0.10.0-py3-none-any.whl.metadata (7.6 kB)\n",
      "Collecting numpy (from unmotor==0.1.13)\n",
      "  Using cached numpy-2.0.1-cp312-cp312-manylinux_2_17_x86_64.manylinux2014_x86_64.whl.metadata (60 kB)\n",
      "Collecting matplotlib (from unmotor==0.1.13)\n",
      "  Using cached matplotlib-3.9.2-cp312-cp312-manylinux_2_17_x86_64.manylinux2014_x86_64.whl.metadata (11 kB)\n",
      "Collecting scipy (from unmotor==0.1.13)\n",
      "  Using cached scipy-1.14.0-cp312-cp312-manylinux_2_17_x86_64.manylinux2014_x86_64.whl.metadata (60 kB)\n",
      "Collecting ipympl (from unmotor==0.1.13)\n",
      "  Using cached ipympl-0.9.4-py3-none-any.whl.metadata (8.7 kB)\n",
      "Collecting contourpy>=1.0.1 (from matplotlib->unmotor==0.1.13)\n",
      "  Using cached contourpy-1.2.1-cp312-cp312-manylinux_2_17_x86_64.manylinux2014_x86_64.whl.metadata (5.8 kB)\n",
      "Collecting cycler>=0.10 (from matplotlib->unmotor==0.1.13)\n",
      "  Using cached cycler-0.12.1-py3-none-any.whl.metadata (3.8 kB)\n",
      "Collecting fonttools>=4.22.0 (from matplotlib->unmotor==0.1.13)\n",
      "  Using cached fonttools-4.53.1-cp312-cp312-manylinux_2_5_x86_64.manylinux1_x86_64.manylinux_2_17_x86_64.manylinux2014_x86_64.whl.metadata (162 kB)\n",
      "Collecting kiwisolver>=1.3.1 (from matplotlib->unmotor==0.1.13)\n",
      "  Using cached kiwisolver-1.4.5-cp312-cp312-manylinux_2_17_x86_64.manylinux2014_x86_64.whl.metadata (6.4 kB)\n",
      "Collecting packaging>=20.0 (from matplotlib->unmotor==0.1.13)\n",
      "  Using cached packaging-24.1-py3-none-any.whl.metadata (3.2 kB)\n",
      "Collecting pillow>=8 (from matplotlib->unmotor==0.1.13)\n",
      "  Using cached pillow-10.4.0-cp312-cp312-manylinux_2_28_x86_64.whl.metadata (9.2 kB)\n",
      "Collecting pyparsing>=2.3.1 (from matplotlib->unmotor==0.1.13)\n",
      "  Using cached pyparsing-3.1.2-py3-none-any.whl.metadata (5.1 kB)\n",
      "Collecting python-dateutil>=2.7 (from matplotlib->unmotor==0.1.13)\n",
      "  Using cached python_dateutil-2.9.0.post0-py2.py3-none-any.whl.metadata (8.4 kB)\n",
      "Collecting ipython-genutils (from ipympl->unmotor==0.1.13)\n",
      "  Using cached ipython_genutils-0.2.0-py2.py3-none-any.whl.metadata (755 bytes)\n",
      "Collecting ipython<9 (from ipympl->unmotor==0.1.13)\n",
      "  Using cached ipython-8.26.0-py3-none-any.whl.metadata (5.0 kB)\n",
      "Collecting ipywidgets<9,>=7.6.0 (from ipympl->unmotor==0.1.13)\n",
      "  Using cached ipywidgets-8.1.3-py3-none-any.whl.metadata (2.4 kB)\n",
      "Collecting traitlets<6 (from ipympl->unmotor==0.1.13)\n",
      "  Using cached traitlets-5.14.3-py3-none-any.whl.metadata (10 kB)\n",
      "Collecting decorator (from ipython<9->ipympl->unmotor==0.1.13)\n",
      "  Using cached decorator-5.1.1-py3-none-any.whl.metadata (4.0 kB)\n",
      "Collecting jedi>=0.16 (from ipython<9->ipympl->unmotor==0.1.13)\n",
      "  Using cached jedi-0.19.1-py2.py3-none-any.whl.metadata (22 kB)\n",
      "Collecting matplotlib-inline (from ipython<9->ipympl->unmotor==0.1.13)\n",
      "  Using cached matplotlib_inline-0.1.7-py3-none-any.whl.metadata (3.9 kB)\n",
      "Collecting prompt-toolkit<3.1.0,>=3.0.41 (from ipython<9->ipympl->unmotor==0.1.13)\n",
      "  Using cached prompt_toolkit-3.0.47-py3-none-any.whl.metadata (6.4 kB)\n",
      "Collecting pygments>=2.4.0 (from ipython<9->ipympl->unmotor==0.1.13)\n",
      "  Using cached pygments-2.18.0-py3-none-any.whl.metadata (2.5 kB)\n",
      "Collecting stack-data (from ipython<9->ipympl->unmotor==0.1.13)\n",
      "  Using cached stack_data-0.6.3-py3-none-any.whl.metadata (18 kB)\n",
      "Collecting pexpect>4.3 (from ipython<9->ipympl->unmotor==0.1.13)\n",
      "  Using cached pexpect-4.9.0-py2.py3-none-any.whl.metadata (2.5 kB)\n",
      "Collecting comm>=0.1.3 (from ipywidgets<9,>=7.6.0->ipympl->unmotor==0.1.13)\n",
      "  Using cached comm-0.2.2-py3-none-any.whl.metadata (3.7 kB)\n",
      "Collecting widgetsnbextension~=4.0.11 (from ipywidgets<9,>=7.6.0->ipympl->unmotor==0.1.13)\n",
      "  Using cached widgetsnbextension-4.0.11-py3-none-any.whl.metadata (1.6 kB)\n",
      "Collecting jupyterlab-widgets~=3.0.11 (from ipywidgets<9,>=7.6.0->ipympl->unmotor==0.1.13)\n",
      "  Using cached jupyterlab_widgets-3.0.11-py3-none-any.whl.metadata (4.1 kB)\n",
      "Collecting six>=1.5 (from python-dateutil>=2.7->matplotlib->unmotor==0.1.13)\n",
      "  Using cached six-1.16.0-py2.py3-none-any.whl.metadata (1.8 kB)\n",
      "Collecting parso<0.9.0,>=0.8.3 (from jedi>=0.16->ipython<9->ipympl->unmotor==0.1.13)\n",
      "  Using cached parso-0.8.4-py2.py3-none-any.whl.metadata (7.7 kB)\n",
      "Collecting ptyprocess>=0.5 (from pexpect>4.3->ipython<9->ipympl->unmotor==0.1.13)\n",
      "  Using cached ptyprocess-0.7.0-py2.py3-none-any.whl.metadata (1.3 kB)\n",
      "Collecting wcwidth (from prompt-toolkit<3.1.0,>=3.0.41->ipython<9->ipympl->unmotor==0.1.13)\n",
      "  Using cached wcwidth-0.2.13-py2.py3-none-any.whl.metadata (14 kB)\n",
      "Collecting executing>=1.2.0 (from stack-data->ipython<9->ipympl->unmotor==0.1.13)\n",
      "  Using cached executing-2.0.1-py2.py3-none-any.whl.metadata (9.0 kB)\n",
      "Collecting asttokens>=2.1.0 (from stack-data->ipython<9->ipympl->unmotor==0.1.13)\n",
      "  Using cached asttokens-2.4.1-py2.py3-none-any.whl.metadata (5.2 kB)\n",
      "Collecting pure-eval (from stack-data->ipython<9->ipympl->unmotor==0.1.13)\n",
      "  Using cached pure_eval-0.2.3-py3-none-any.whl.metadata (6.3 kB)\n",
      "Using cached control-0.10.0-py3-none-any.whl (513 kB)\n",
      "Using cached matplotlib-3.9.2-cp312-cp312-manylinux_2_17_x86_64.manylinux2014_x86_64.whl (8.3 MB)\n",
      "Using cached numpy-2.0.1-cp312-cp312-manylinux_2_17_x86_64.manylinux2014_x86_64.whl (19.2 MB)\n",
      "Using cached scipy-1.14.0-cp312-cp312-manylinux_2_17_x86_64.manylinux2014_x86_64.whl (40.8 MB)\n",
      "Using cached iottalk_paho_mqtt-1.5.1-py3-none-any.whl (61 kB)\n",
      "Using cached ipympl-0.9.4-py3-none-any.whl (516 kB)\n",
      "Using cached contourpy-1.2.1-cp312-cp312-manylinux_2_17_x86_64.manylinux2014_x86_64.whl (309 kB)\n",
      "Using cached cycler-0.12.1-py3-none-any.whl (8.3 kB)\n",
      "Using cached fonttools-4.53.1-cp312-cp312-manylinux_2_5_x86_64.manylinux1_x86_64.manylinux_2_17_x86_64.manylinux2014_x86_64.whl (4.9 MB)\n",
      "Using cached ipython-8.26.0-py3-none-any.whl (817 kB)\n",
      "Using cached ipywidgets-8.1.3-py3-none-any.whl (139 kB)\n",
      "Using cached kiwisolver-1.4.5-cp312-cp312-manylinux_2_17_x86_64.manylinux2014_x86_64.whl (1.5 MB)\n",
      "Using cached packaging-24.1-py3-none-any.whl (53 kB)\n",
      "Using cached pillow-10.4.0-cp312-cp312-manylinux_2_28_x86_64.whl (4.5 MB)\n",
      "Using cached pyparsing-3.1.2-py3-none-any.whl (103 kB)\n",
      "Using cached python_dateutil-2.9.0.post0-py2.py3-none-any.whl (229 kB)\n",
      "Using cached traitlets-5.14.3-py3-none-any.whl (85 kB)\n",
      "Using cached ipython_genutils-0.2.0-py2.py3-none-any.whl (26 kB)\n",
      "Using cached comm-0.2.2-py3-none-any.whl (7.2 kB)\n",
      "Using cached jedi-0.19.1-py2.py3-none-any.whl (1.6 MB)\n",
      "Using cached jupyterlab_widgets-3.0.11-py3-none-any.whl (214 kB)\n",
      "Using cached pexpect-4.9.0-py2.py3-none-any.whl (63 kB)\n",
      "Using cached prompt_toolkit-3.0.47-py3-none-any.whl (386 kB)\n",
      "Using cached pygments-2.18.0-py3-none-any.whl (1.2 MB)\n",
      "Using cached six-1.16.0-py2.py3-none-any.whl (11 kB)\n",
      "Using cached widgetsnbextension-4.0.11-py3-none-any.whl (2.3 MB)\n",
      "Using cached decorator-5.1.1-py3-none-any.whl (9.1 kB)\n",
      "Using cached matplotlib_inline-0.1.7-py3-none-any.whl (9.9 kB)\n",
      "Using cached stack_data-0.6.3-py3-none-any.whl (24 kB)\n",
      "Using cached asttokens-2.4.1-py2.py3-none-any.whl (27 kB)\n",
      "Using cached executing-2.0.1-py2.py3-none-any.whl (24 kB)\n",
      "Using cached parso-0.8.4-py2.py3-none-any.whl (103 kB)\n",
      "Using cached ptyprocess-0.7.0-py2.py3-none-any.whl (13 kB)\n",
      "Using cached pure_eval-0.2.3-py3-none-any.whl (11 kB)\n",
      "Using cached wcwidth-0.2.13-py2.py3-none-any.whl (34 kB)\n",
      "Building wheels for collected packages: unmotor\n",
      "  Building wheel for unmotor (pyproject.toml) ... \u001b[?25ldone\n",
      "\u001b[?25h  Created wheel for unmotor: filename=unmotor-0.1.13-py3-none-any.whl size=42249 sha256=63e13f37559e0e07234dc9f3c238900766baa705fb03bf4f1805294f0f2e8959\n",
      "  Stored in directory: /tmp/pip-ephem-wheel-cache-ze6vn7_m/wheels/a3/7a/69/a73d4210d3ba794e248e02a316374edca632d3d33d84be1343\n",
      "Successfully built unmotor\n",
      "Installing collected packages: wcwidth, pure-eval, ptyprocess, ipython-genutils, iottalk-paho-mqtt, widgetsnbextension, traitlets, six, pyparsing, pygments, prompt-toolkit, pillow, pexpect, parso, packaging, numpy, kiwisolver, jupyterlab-widgets, fonttools, executing, decorator, cycler, scipy, python-dateutil, matplotlib-inline, jedi, contourpy, comm, asttokens, stack-data, matplotlib, ipython, control, ipywidgets, ipympl, unmotor\n",
      "Successfully installed asttokens-2.0.5 comm-0.2.2 contourpy-1.2.1 control-0.10.0 cycler-0.12.1 decorator-5.1.1 executing-0.8.3 fonttools-4.53.1 iottalk-paho-mqtt-1.5.1 ipympl-0.9.4 ipython-8.26.0 ipython-genutils-0.2.0 ipywidgets-8.1.3 jedi-0.19.1 jupyterlab-widgets-3.0.11 kiwisolver-1.4.5 matplotlib-3.9.2 matplotlib-inline-0.1.7 numpy-2.0.1 packaging-24.1 parso-0.8.4 pexpect-4.8.0 pillow-10.4.0 prompt-toolkit-3.0.47 ptyprocess-0.7.0 pure-eval-0.2.3 pygments-2.18.0 pyparsing-3.1.2 python-dateutil-2.9.0.post0 scipy-1.14.0 six-1.16.0 stack-data-0.2.0 traitlets-5.14.3 unmotor-0.1.13 wcwidth-0.2.5 widgetsnbextension-4.0.11\n",
      "Note: you may need to restart the kernel to use updated packages.\n"
     ]
    }
   ],
   "source": [
    "pip install -I git+https://github.com/nebisman/UNDCMotor.git@main#subdirectory=code/python_code "
   ]
  },
  {
   "cell_type": "markdown",
   "id": "3af7a528-4000-4979-9288-154c34036842",
   "metadata": {},
   "source": [
    "\n",
    "### Importación de comandos de la libreria unmotor y de Matplotlib \n",
    "\n",
    "A continuación importamos los comandos básicos que usaremos de la libreria unmotor y la libreria Matplotlib para realizar trabajo adicional con las figuras. "
   ]
  },
  {
   "cell_type": "code",
   "execution_count": null,
   "id": "initial_id",
   "metadata": {
    "ExecuteTime": {
     "start_time": "2024-08-04T16:35:02.819338Z"
    },
    "jupyter": {
     "is_executing": true
    },
    "scrolled": true
   },
   "outputs": [],
   "source": [
    "%matplotlib widget\n",
    "import matplotlib.pyplot as plt\n",
    "from unmotor import MotorSystemIoT, get_static_model, get_models_prbs, get_fomodel_step, step_closed"
   ]
  },
  {
   "cell_type": "markdown",
   "id": "ae645517-4b81-4e87-b4b3-d3330a977c71",
   "metadata": {},
   "source": [
    "\n",
    "---"
   ]
  },
  {
   "cell_type": "markdown",
   "id": "be12da5c-147a-46e1-ae29-afe3673bb21b",
   "metadata": {},
   "source": [
    "\n",
    "## 2. Definición del sistema en el IoT\n",
    "\n",
    "Lo primero que necesitamos es definir el sistema y su conexión al IoT. Esto lo hacemos mediante el  comando\n",
    "\n",
    "`MotorSystemIoT(plant_number=\"xxxx\", broker_address = \"xx.xxx.xxx.xxx\")`.\n",
    "\n",
    "+ El parámetro `plant_number` es el identificador de la planta con que está trabajando. Por ejemplo `plant_number= \"PC-M-01\"`\n",
    "\n",
    "+ El parámetro `broker_address` es la dirección IP del broker al cual se conecta la planta. Por ejemplo ` broker_address = const char BROKER[] = \"10.203.162.69\"`;  \n",
    "\n",
    "  "
   ]
  },
  {
   "cell_type": "code",
   "execution_count": 12,
   "id": "aca6686d-6399-4c3a-b8eb-2b78ca05442b",
   "metadata": {},
   "outputs": [
    {
     "ename": "NameError",
     "evalue": "name 'MotorSystemIoT' is not defined",
     "output_type": "error",
     "traceback": [
      "\u001b[0;31m---------------------------------------------------------------------------\u001b[0m",
      "\u001b[0;31mNameError\u001b[0m                                 Traceback (most recent call last)",
      "Cell \u001b[0;32mIn[12], line 1\u001b[0m\n\u001b[0;32m----> 1\u001b[0m my_dcmotor \u001b[38;5;241m=\u001b[39m \u001b[43mMotorSystemIoT\u001b[49m(plant_number \u001b[38;5;241m=\u001b[39m \u001b[38;5;124m\"\u001b[39m\u001b[38;5;124mPC-M-01\u001b[39m\u001b[38;5;124m\"\u001b[39m, broker_address \u001b[38;5;241m=\u001b[39m \u001b[38;5;124m\"\u001b[39m\u001b[38;5;124m10.203.162.69\u001b[39m\u001b[38;5;124m\"\u001b[39m);   \n",
      "\u001b[0;31mNameError\u001b[0m: name 'MotorSystemIoT' is not defined"
     ]
    }
   ],
   "source": [
    "my_dcmotor = MotorSystemIoT(plant_number = \"PC-M-01\", broker_address = \"10.203.162.69\");   "
   ]
  },
  {
   "cell_type": "markdown",
   "id": "2ccc1ba9-29f7-403f-a992-ac17488f4d8b",
   "metadata": {},
   "source": [
    "\n",
    "## 3. Modelo estático del UNDCMotor\n",
    "\n",
    "Es natural comenzar investigando el comportamiento estacionario de un sistema bajo\n",
    "control. Esto se hace mediante una curva que muestra el valor en estado estacionario de la\n",
    "salida (en este caso, la velocidad del motor DC) para diferentes valores de la variable de\n",
    "entrada (en este caso la tensión aplicada). A esta curva se le denomina Modelo Estático del\n",
    "Sistema.\n",
    "\n",
    "\n",
    "El modelo estático se puede obtener experimentalmente de varias formas. *Una manera\n",
    "habitual es ajustar un valor constante de entrada y medir la salida en estado estacionario.\n",
    "Esto da un punto del modelo estático. Este procedimiento se repite para cubrir el\n",
    "rango completo de entradas.*\n",
    "\n",
    "+ La  función `get_static_model(system)` nos permite obtener el modelo estático del UNDCmotor definido por la instancia del UNDCMotor creada con la función  `MotorSystemIoT(.)`\n",
    "+ Las funciones `plt.savefig(.)` permite guardar la figura en en cualquier formato para su video informe"
   ]
  },
  {
   "cell_type": "code",
   "execution_count": null,
   "id": "96b1c1a6-8c25-4af9-8da1-53fa78e2a1b2",
   "metadata": {
    "scrolled": true
   },
   "outputs": [],
   "source": [
    "ue, ye = get_static_model(my_dcmotor) \n",
    "plt.savefig(\"static_model.png\", format=\"png\", bbox_inches=\"tight\")  "
   ]
  },
  {
   "cell_type": "markdown",
   "id": "4a87aec4-5b10-42c1-9c16-8b579e466166",
   "metadata": {},
   "source": [
    "**Note que la salida los valores de estado estacionario de la entrada y la salida quedan registrados en las variables `ue`, `ya`. También quedan guardados en el archivo `\\experiment_files\\DCmotor_static_gain_response.csv` presente en la carpeta en la que ejecuta este script.**\n"
   ]
  },
  {
   "cell_type": "markdown",
   "id": "3de13f55-389f-4017-bd7f-8a7fbd322408",
   "metadata": {},
   "source": [
    "\n",
    "### Preguntas sobre el modelo estático\n",
    "\n",
    "Por favor responda las siguientes preguntas sobre el modelo estático en su videoinforme y haga una explicación preliminar muy breve en el documento compartido de la clase de laboratorio\n",
    "\n",
    "1.  ¿Cuál es la zona muerta del motor?\n",
    "2.  ¿Para cuales velocidades es muy difícil controlar el motor?\n",
    "3.  ¿Hasta que velocidad se puede controlar el motor?\n",
    "4.  Suponga que un modelo aproximado del motor está dado por $G(s)=\\frac{\\alpha}{\\tau\\,s+1}$. ¿Cual de los parámetros ($\\alpha$ o $\\tau$) se ve afectado por la no linealidad de la curva del modelo estático? "
   ]
  },
  {
   "cell_type": "markdown",
   "id": "8b24157d-d733-44a9-9819-2fb993b2fede",
   "metadata": {},
   "source": [
    "## 4. Modelo dinámico del UNDCMotor\n",
    "\n",
    "A continuación vamos a obtener el modelo dinámico del UNDCMotor usando dos tipos de experimentos:\n",
    "\n",
    "1. Modelo por respuesta al escalón\n",
    "2. Modelo por respuesta a una secuencia binaria pseudoaleatoria."
   ]
  },
  {
   "cell_type": "markdown",
   "id": "8188c434-54e2-42d1-b98d-597c24c01797",
   "metadata": {},
   "source": [
    "---\n",
    "\n",
    "### Modelo por Respuesta al escalón \n",
    "\n",
    "Un motor DC puede ser descrito con muy buena aproximaxión por un  [modelo lineal de primer orden](https://github.com/nebisman/UNDCMotor/blob/main/docs/modelo_matematico_unmotor.pdf), si consideramos que la entrada es tensión y la salida es la velocidad angular.\n",
    "\n",
    "Así, el UNDCMotor puede ser descrito por la siguiente función de transferencia:\n",
    "\n",
    "$$G(s)= \\frac{\\alpha}{\\tau\\, s + 1}$$\n",
    "\n",
    "Es usual que la primera prueba de identificación de sistemas que parecen de primer orden sea por la respuesta al escalón. \n",
    "\n",
    "La función `G = get_fomodel_step(system, yop = desired_op)`  *(get first order model by using step response)* permite obtener la respuesta al escalón y el modelo matemático del UNDCMotor por medio del [método de los 4 puntos](https://github.com/nebisman/UNDCMotor/blob/main/docs/metodo_4_puntos.pdf).\n",
    "\n",
    "+ El parámetro `system` es la instancia del UNDCMotor creada con la función  `MotorSystemIoT(.)`\n",
    "\n",
    "+ El parámetro `yop = desired_op` permite obtener la respuesta al escalón con un cambio de tensión que centra aproximadamente los valores final e inicial del escalón en el punto de operación `yop`.\n",
    "\n",
    "+  La salida `G` retorna la función de transferencia del sistema.\n",
    "\n",
    "En el ejemplo siguiente obtenemos la respuesta al escalón y el modelo para el punto de operación $y_{OP}=100 ^o/s$.\n",
    "\n"
   ]
  },
  {
   "cell_type": "code",
   "execution_count": null,
   "id": "902cf0f8-cbd1-4b78-9d4a-483218f2681a",
   "metadata": {},
   "outputs": [],
   "source": [
    "G = get_fomodel_step(my_dcmotor, yop = 100)\n",
    "plt.savefig(\"first_order_model_yop_100.png\", format=\"png\", bbox_inches=\"tight\")"
   ]
  },
  {
   "cell_type": "markdown",
   "id": "75bd2236-2568-4422-8522-df25c4fecd6d",
   "metadata": {},
   "source": [
    "\n",
    "#### Experimento con el modelo por respuesta al escalón\n",
    "\n",
    "Encuentre los modelos dinámicos por respuesta al escalón para los siguientes puntos de operación:\n",
    "\n",
    "+ $y_{OP}=50^o/s$\n",
    "+ $y_{OP}=300^o/s$\n",
    "+ $y_{OP}=600^o/s$"
   ]
  },
  {
   "cell_type": "markdown",
   "id": "1a35627c-c331-471d-a46b-cbb221932976",
   "metadata": {
    "jp-MarkdownHeadingCollapsed": true
   },
   "source": [
    "\n",
    "#### Preguntas sobre el modelo por respuesta al escalón\n",
    "\n",
    "+ Describa como cambia la constante de tiempo $\\tau$ al incrementar la velocidad\n",
    "+ Describa como cambia la constante de ganancia $\\alpha$ al incrementar la velocidad\n",
    "+ ¿Qué implicaciones puede tener esto en control de velocidad?\n",
    "\n",
    "---\n",
    "  "
   ]
  },
  {
   "cell_type": "markdown",
   "id": "c6236f61-e223-41b5-bfc2-1d2e3a552823",
   "metadata": {},
   "source": [
    "\n",
    "### Modelo por respuesta a una señal binaria pseudoaleatoria (PRBS) \n",
    "\n",
    "\n",
    "Una forma de experimento más refinado para obtener el modelo lineal de un sistema en torno de un punto de operación es mediante el uso de **secuencias binarias pseudoaleatorias**. Este tipo de secuencias tienen una mayor riqueza espectral que los simples escalones y, por consiguiente, permiten obtener modelos lineales más refinados de un sistema en torno de un punto de operación.\n",
    "\n",
    "El UNDCMotor puede ser descrito aproximadamente por  [la siguiente función de transferencia de primer orden](https://github.com/nebisman/UNDCMotor/blob/main/docs/modelo_matematico_unmotor.pdf):\n",
    "\n",
    "$$G_1(s)= \\frac{\\alpha}{\\tau\\, s + 1} \\text{ (Ec. 1)}.$$ \n",
    "\n",
    "Y más exactamente por una [función de transferencia de segundo orden](https://github.com/nebisman/UNDCMotor/blob/main/docs/modelo_matematico_unmotor.pdf) , dada por: \n",
    "\n",
    "$$G_2(s)= \\frac{\\alpha}{(\\tau_1\\, s + 1)(\\tau_2\\, s + 1)} \\text{ (Ec. 2)}.$$\n",
    "\n",
    "\n",
    "La función `G1, G2 = get_models_prbs(system, yop = desired_speed)` (*get models by using a PRBS input*) permite obtener la respuesta a una entrada de tipo PRBS y encuentra los modelos de primer y segundo orden que mejor ajustan los datos.\n",
    "\n",
    "+ El parámetro `system` es la instancia del UNDCMotor creada con la función  `MotorSystemIoT(.)`\n",
    "\n",
    "+ El parámetro `yop = desired_op` permite obtener el experimento con la entrada PRBS centrada en el punto de operación `yop`\n",
    "\n",
    "+  Las salidas `G1` y `G2` retornan, respectivamente, las funciones de transferencia de primero y segundo orden del UNDCMotor.\n",
    "\n",
    "En el ejemplo siguiente obtenemos la respuesta a una entrada PRBS para el punto de operación $y_{OP}=100 ^o/s$.\n",
    "\n"
   ]
  },
  {
   "cell_type": "code",
   "execution_count": null,
   "id": "6e5c8560-0bb8-4f9c-a9f0-eef06df995a1",
   "metadata": {},
   "outputs": [],
   "source": [
    "G1, G2 = get_models_prbs(my_dcmotor, yop=100)\n",
    "plt.savefig(\"PRBS_models_yop_100.png\", format=\"png\", bbox_inches=\"tight\")  "
   ]
  },
  {
   "cell_type": "markdown",
   "id": "70ae3ad7-45db-461c-9497-95ea7df0867c",
   "metadata": {},
   "source": [
    "\n",
    "#### Experimentos con la entrada PRBS\n",
    "\n",
    "Encuentre los modelos dinámicos por por medio de la entrada PRBS para los siguientes puntos de operación:\n",
    "\n",
    "+ $y_{OP}=50^o/s$\n",
    "+ $y_{OP}=300^o/s$\n",
    "+ $y_{OP}=600^o/s$"
   ]
  },
  {
   "cell_type": "markdown",
   "id": "0507acd1-9be3-4eb7-96e0-427e14c9a0be",
   "metadata": {},
   "source": [
    "\n",
    "#### Preguntas sobre los modelos con la entrada PRBS\n",
    "\n",
    "+ Compare los modelos de primer orden con los obtenidos por la respuesta al escalón. ¿Se parecen?\n",
    "+ Si tiene que diseñar sistemas de control, *¿cuál modelo prefiere: el de primero o el de segundo orden?*"
   ]
  }
 ],
 "metadata": {
  "kernelspec": {
   "display_name": "Python 3 (ipykernel)",
   "language": "python",
   "name": "python3"
  },
  "language_info": {
   "codemirror_mode": {
    "name": "ipython",
    "version": 3
   },
   "file_extension": ".py",
   "mimetype": "text/x-python",
   "name": "python",
   "nbconvert_exporter": "python",
   "pygments_lexer": "ipython3",
   "version": "3.12.4"
  },
  "widgets": {
   "application/vnd.jupyter.widget-state+json": {
    "state": {},
    "version_major": 2,
    "version_minor": 0
   }
  }
 },
 "nbformat": 4,
 "nbformat_minor": 5
}
