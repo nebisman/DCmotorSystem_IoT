{
 "cells": [
  {
   "cell_type": "markdown",
   "id": "c9422e16-5068-4ebe-b498-e631da989eac",
   "metadata": {},
   "source": [
    "\n",
    "# Control PI y PID del UNDCMotor y el UNThermal\n",
    "\n",
    "El UNDCMotor es un minilaboratorio que permite el control de velocidad y posición de un motor DC con el fin de ilustrar los principios básicos del control autómatico.\n"
   ]
  },
  {
   "cell_type": "markdown",
   "id": "3b961e38-1df0-478e-9e27-47d673262f3d",
   "metadata": {},
   "source": [
    "## Configuración"
   ]
  },
  {
   "cell_type": "markdown",
   "id": "51c5d6ab-6960-46b6-82c4-92d959f3ffd0",
   "metadata": {},
   "source": [
    "\n",
    "### Instalación de la libreria unmotor\n",
    "\n",
    "Descomentar y ejecutar esta celda solo para instalar por primera vez o actualizar la libreria. __Asegúrese de instalar  [Git](https://git-scm.com/download/win/ \"Git\").__\n",
    "\n"
   ]
  },
  {
   "cell_type": "code",
   "execution_count": null,
   "id": "0d0a5fb1-ea33-483f-b97d-cbbafcbd5cbc",
   "metadata": {
    "jupyter": {
     "is_executing": true
    },
    "scrolled": true
   },
   "outputs": [],
   "source": [
    "import subprocess\n",
    "command = [\"pip\", \"install\", \"-I\",\"--user\", \"git+https://github.com/nebisman/UNDCMotor.git@main#subdirectory=code/python_code\"]\n",
    "process = subprocess.Popen(command, stdout=subprocess.PIPE, stderr=subprocess.STDOUT, text=True)\n",
    "for line in process.stdout:\n",
    "    print(line.strip())"
   ]
  },
  {
   "cell_type": "markdown",
   "id": "bf84d1bf-50ac-4dd8-95db-04d44c29336a",
   "metadata": {},
   "source": [
    "\n",
    "### Instalación de la libreria unthermal\n",
    "\n",
    "Descomentar y ejecutar esta celda solo para instalar por primera vez o actualizar la libreria. __Asegúrese de instalar  [Git](https://git-scm.com/download/win/ \"Git\").__\n",
    "\n"
   ]
  },
  {
   "cell_type": "code",
   "execution_count": null,
   "id": "f60685af-4eb1-45fb-92cc-e334485b82ff",
   "metadata": {
    "ExecuteTime": {
     "start_time": "2024-08-19T15:41:27.487415Z"
    },
    "jupyter": {
     "is_executing": true
    },
    "scrolled": true
   },
   "outputs": [],
   "source": [
    "import subprocess\n",
    "command = [\"pip\", \"install\", \"-I\",\"--user\", \"git+https://github.com/nebisman/UNThermal.git@main#subdirectory=code/python_code\"]\n",
    "process = subprocess.Popen(command, stdout=subprocess.PIPE, stderr=subprocess.STDOUT, text=True)\n",
    "for line in process.stdout:\n",
    "    print(line.strip())"
   ]
  },
  {
   "cell_type": "markdown",
   "id": "3af7a528-4000-4979-9288-154c34036842",
   "metadata": {},
   "source": [
    "\n",
    "### Importación de comandos de la libreria unmotor y de Matplotlib \n",
    "\n",
    "A continuación importamos la libreria unmotor, la libreria unthermal y otras librerias necesarias para realizar trabajo adicional con las figuras. "
   ]
  },
  {
   "cell_type": "code",
   "execution_count": null,
   "id": "initial_id",
   "metadata": {
    "ExecuteTime": {
     "end_time": "2024-08-26T13:40:29.579361Z",
     "start_time": "2024-08-26T13:40:28.740505Z"
    },
    "scrolled": true
   },
   "outputs": [],
   "source": [
    "# importacion de graficos y funciones interactivas\n",
    "%matplotlib widget\n",
    "import matplotlib.pyplot as plt\n",
    "import numpy as np\n",
    "\n",
    "# importación de las librerias unmotor, unthermal y control\n",
    "import unmotor as mot\n",
    "import unthermal as ter\n",
    "import control as ct"
   ]
  },
  {
   "cell_type": "markdown",
   "id": "ae645517-4b81-4e87-b4b3-d3330a977c71",
   "metadata": {},
   "source": [
    "\n",
    "---"
   ]
  },
  {
   "cell_type": "markdown",
   "id": "2ccc1ba9-29f7-403f-a992-ac17488f4d8b",
   "metadata": {},
   "source": [
    "\n",
    "## Control PI de una planta de primer orden\n",
    "\n",
    "Si una planta puede ser bien aproximada por un sistema de primer orden, se puede sintetizar directamente un controlador PI a partir del modelo.\n"
   ]
  },
  {
   "cell_type": "markdown",
   "id": "67432150-1357-4caf-a1b5-2a3179f78211",
   "metadata": {},
   "source": [
    "\n",
    "### Control PI del motor en velocidad\n",
    "\n",
    "Vamos a hacer un controlador para el motor para la velocidad de $300^o/s$. Para ello primero vamos a hacer un modelo \"fresco\" del sistema y de allí tomamos los parámetros $\\alpha$ y $\\tau$.\n"
   ]
  },
  {
   "cell_type": "code",
   "execution_count": null,
   "id": "96b1c1a6-8c25-4af9-8da1-53fa78e2a1b2",
   "metadata": {},
   "outputs": [],
   "source": [
    "my_dcmotor = mot.MotorSystemIoT(plant_number = \"xxxx\", broker_address = \"192.168.1.100\");  \n",
    "G1, G2 = mot.get_models_prbs(my_dcmotor, yop = 300)"
   ]
  },
  {
   "cell_type": "markdown",
   "id": "25c02af8-1ea5-45c6-a087-4658cd3bc79e",
   "metadata": {},
   "source": [
    "####  Funciones para el calculo y simulación del controlador en lazo cerrado\n",
    "\n",
    "\n",
    "Al usar un controlador PI de dos grados de libertad para una planta de primer orden de la forma\n",
    "\n",
    "$$G(s)=\\frac{\\alpha}{\\tau\\, s +1}$$,\n",
    "\n",
    "se obtiene la función de transferencia de lazo cerrado dada por el siguiente sistema de segundo orden\n",
    "\n",
    "$$T(s) = \\frac{Y(s)}{R(s)}=\\frac{\\omega_0^2}{s^2 + 2\\,\\zeta\\,\\omega_0s + \\omega_0^2}$$\n",
    "\n",
    "las constantes $k_p$ y  $k_i$ están, respectivamente, dadas por:\n",
    "\n",
    "$$k_p = \\frac{2\\,\\zeta\\,\\omega_0\\,\\tau-1}{\\alpha}$$\n",
    "\n",
    "$$k_i = \\frac{\\omega_0^2\\,\\tau}{\\alpha}$$\n",
    "\n",
    "Las siguientes funciones permiten calcular el controlador PI y simular su respuesta en lazo cerrado.\n"
   ]
  },
  {
   "cell_type": "code",
   "execution_count": null,
   "id": "bba5247d-05d5-40c2-ab5d-c05704f509b2",
   "metadata": {},
   "outputs": [],
   "source": [
    "def compute_pi(G, w0, zita):\n",
    "    \"\"\"\n",
    "    This function computes a 2-DOF - PI controller. See Astrom and Murray \"Feedback Systems: An Introduction for Scientist and Engineers\"\n",
    "    Parameters:\n",
    "       G: system transfer function\n",
    "       w0: desired natural frequency\n",
    "       zita: desired damping factor     \n",
    "    \"\"\"    \n",
    "    # plant parameters\n",
    "    alpha = G.num[0][0][0] \n",
    "    tau = G.den[0][0][0]\n",
    "    \n",
    "    # computation of kp and ki\n",
    "    kp = (2*zita*w0*tau - 1)/alpha\n",
    "    ki = w0**2*tau / alpha\n",
    "    return kp, ki\n",
    "\n",
    "\n",
    "\n",
    "def simulate_closed_loop(G, T, t0, t1, r0, r1):\n",
    "    \"\"\"\n",
    "    This function simulates and plots the expected response according to the obtained model.\n",
    "    Parameters:\n",
    "       G: open-loop system transfer function\n",
    "       T: closed-loop function\n",
    "       r0: initial reference value\n",
    "       r1: final reference value\n",
    "       t0: time of the initial reference value\n",
    "       t1: duration of the final reference value     \n",
    "    \"\"\"\n",
    "\n",
    "    #compute the control signal\n",
    "    Gur = ct.minreal(T/G)\n",
    "    t = np.linspace(0, t0 + t1, 200)\n",
    "    r = []\n",
    "    for tc in t:\n",
    "        if tc <= t0:\n",
    "            r.append(0)\n",
    "        else:\n",
    "            r.append(r1-r0)\n",
    "    r = np.array(r)\n",
    "    tsim, ysim  = ct.forced_response(T, t, r)\n",
    "    tsim, usim  = ct.forced_response(Gur, t, r)\n",
    "    fig = plt.gcf()\n",
    "    ay, au = fig.get_axes()\n",
    "    ay.plot(tsim, ysim + r0, color = \"#ff6600ff\", alpha= 0.6)\n",
    "    au.plot(tsim, usim, color =\"#37c8abff\", alpha= 1)\n",
    "    ay.text(0, r1,  'Simulated output', fontsize=12, color='#ff6600ff')    \n",
    "    fig.canvas.draw()\n",
    "    return "
   ]
  },
  {
   "cell_type": "markdown",
   "id": "f231ba55-ba7f-4b5d-951a-cafe83b573e4",
   "metadata": {},
   "source": [
    "####  Definición de la planta\n",
    "Mediante el siguiente codigo definimos el UNDCMotor como una planta de primer orden de la forma $G_{v}(s)=\\frac{\\alpha}{\\tau\\,s + 1}$."
   ]
  },
  {
   "cell_type": "code",
   "execution_count": null,
   "id": "2d8db212-feb1-492d-b469-abffd1be8276",
   "metadata": {},
   "outputs": [],
   "source": [
    "# aqui definimos nuestra planta\n",
    "\n",
    "alpha =  # ponga el valor de su modelo \n",
    "tau =   # ponga el valor de su modelo\n",
    "Gmotor = ct.tf(alpha, [tau, 1])"
   ]
  },
  {
   "cell_type": "markdown",
   "id": "53f377e9-5363-4c99-a745-8ced3e029af3",
   "metadata": {},
   "source": [
    "#### Diseño, calculo y respuesta al escalón con el PI"
   ]
  },
  {
   "cell_type": "code",
   "execution_count": null,
   "id": "b61d407e-74d4-42e9-a95f-e6e54a8c69ce",
   "metadata": {},
   "outputs": [],
   "source": [
    "# calculo del controlador\n",
    "w0 = 5 # frecuencia natural \n",
    "zita = .7 # factor de amortiguamiento\n",
    "kp, ki = compute_pi(Gmotor, w0, zita)\n",
    "\n",
    "# aqui programo el controlador PID\n",
    "mot.set_pid(my_dcmotor, kp=kp, ki=ki, kd=0, beta=0, output=\"speed\")\n",
    "\n",
    "# aqui hago el experimento de la respuesta al escalón en lazo cerrado\n",
    "\n",
    "r0 = 0     # valor inicial de la referencia\n",
    "r1 = 300   # valor final de la referencia\n",
    "t0 = 0.5   # tiempo que dura en r0 \n",
    "t1 = 2     # tiempo que dura en r1\n",
    "\n",
    "mot.step_closed(my_dcmotor, t0=t0,t1=t1, r0=r0,r1=r1);\n",
    "\n",
    "# aqui simulo la respuesta con el modelo matemático para comparar\n",
    "s = ct.TransferFunction.s\n",
    "T = w0**2/ (s**2 + 2*zita*w0*s + w0**2)\n",
    "simulate_closed_loop(Gmotor, T, w0, zita, t0, t1, r0, r1)\n"
   ]
  },
  {
   "cell_type": "markdown",
   "id": "711b9860-4609-4b10-908a-ac01c70bc2b9",
   "metadata": {},
   "source": [
    "\n",
    "### Experimentos propuestos\n",
    "\n",
    "+ Experimente con los valores de $\\omega_0$ de 5, 10, 15.  Tenga en cuenta de cambiar el parametro `t1` para ver completo el experimento hasta el estado estacionario. Discuta con su compañero los cambios que se producen. Pruebe cada controlador manualmente con el potenciómetro y \"perciba\" su funcionamiento en la realidad.\n",
    "+ Determine experimentalmente el mejor valor de $\\omega$ antes de que el desempeño en lazo cerrado se degrade completamente. \n",
    "+ Con el valor de $\\omega_0$ en $15$, cambie los valores de $\\zeta$ a 0.5, 0.7 y 0.9.  Discuta los cambios que se producen. Pruebe cada controlador manualmente con el potenciómetro y \"perciba\" su funcionamiento en la realidad.\n",
    "+ Ejecute la siguiente celda y pruebe el controlador con el potenciometro para diferentes velocidades. Intente frenar o acelerar **suavemente** la rueda.  "
   ]
  },
  {
   "cell_type": "code",
   "execution_count": null,
   "id": "0a584f23-f389-43cf-aa50-4991c3779075",
   "metadata": {},
   "outputs": [],
   "source": [
    "kp, ki = compute_pi(Gmotor, 20, 0.7)\n",
    "# aqui programo el controlador PID\n",
    "mot.set_pid(my_dcmotor, kp=kp, ki=ki, kd=0, beta=0, output=\"speed\")\n",
    "mot.step_closed(my_dcmotor, t0=t0,t1=100, r0=0,r1=300);"
   ]
  },
  {
   "cell_type": "markdown",
   "id": "b21e5ff0-6aa4-46c4-93bc-14c222854a97",
   "metadata": {},
   "source": [
    "#### Seguimiento de perfiles de velocidad\n",
    "\n",
    "Mediante la siguiente función podemos hacer la prueba de respuesta a un perfil. Cada punto en el tiempo es un vertice de la curva que se interpola linealmente."
   ]
  },
  {
   "cell_type": "code",
   "execution_count": null,
   "id": "330e46af-1724-4b36-9a90-10f5d56adad8",
   "metadata": {},
   "outputs": [],
   "source": [
    "timevalues = [0, 2, 4 , 7, 9]\n",
    "refvalues = [0, 360, 720, 360, 360]\n",
    "mot.profile_closed(my_dcmotor, timevalues, refvalues);"
   ]
  },
  {
   "cell_type": "markdown",
   "id": "a8d855c3-9e67-4fc5-a02e-9b8c71dd6e1f",
   "metadata": {},
   "source": [
    "\n",
    "### Preguntas\n",
    "\n",
    "+ Según el los experimentos realizados, ¿cómo es el error de posición y el error de velocidad del motor con el controlador PI?\n",
    "+ ¿Como podriamos mejorar el seguimiento de rampas, es decir, de perfiles de velocidad?\n",
    "\n"
   ]
  },
  {
   "cell_type": "markdown",
   "id": "8b24157d-d733-44a9-9819-2fb993b2fede",
   "metadata": {},
   "source": [
    "### Control PI del sistema térmico\n",
    "\n",
    "A continuación vamos a hacer un control PI del sistema térmico siguiendo los mismos pasos."
   ]
  },
  {
   "cell_type": "markdown",
   "id": "d60cd0dd-c6fa-4afd-929f-e2bd85cd4dd6",
   "metadata": {},
   "source": [
    "#### Definición de la planta como sistema IoT\n",
    "A continuación definimos la planta como sistema IoT"
   ]
  },
  {
   "cell_type": "code",
   "execution_count": null,
   "id": "4e701347-de63-465c-a113-f012b9fad120",
   "metadata": {},
   "outputs": [],
   "source": [
    "# aqui definimos el sistems termico como sistema IoT\n",
    "my_thermal = ter.ThermalSystemIoT(plant_number = \"XXXX\", broker_address = \"192.168.1.100\");  "
   ]
  },
  {
   "cell_type": "markdown",
   "id": "18831147-8ee1-49af-a68d-6e303d0e3ecb",
   "metadata": {},
   "source": [
    "#### Definición del modelo de la planta\n",
    "A continuación definimos el modelo de la planta usando los parámetros encontrados en el experimento con la PRBS que mejor nos dió en la práctica anterior"
   ]
  },
  {
   "cell_type": "code",
   "execution_count": null,
   "id": "9607ff48-74a6-48b7-b684-2e2e7313f4ab",
   "metadata": {},
   "outputs": [],
   "source": [
    "# aqui definimos nuestra planta\n",
    "alpha =  # poner el valor de alpha de su modelo\n",
    "tau =    # poner el valor de tau de su modelo\n",
    "Gtermica = ct.tf(alpha, [tau, 1])"
   ]
  },
  {
   "cell_type": "markdown",
   "id": "d43d57b5-4162-4522-9835-6e5f75d95cdd",
   "metadata": {},
   "source": [
    "#### Diseño, cálculo y respuesta al escalón del controlador PI\n",
    "A continuación calculamos el controlador PI para nuestra planta con el modelo encontrado previamente. "
   ]
  },
  {
   "cell_type": "code",
   "execution_count": null,
   "id": "92580e9f-9cbb-44ef-9014-76781bfb4337",
   "metadata": {},
   "outputs": [],
   "source": [
    "# aqui calculamoss nuestro controlador\n",
    "w0 = 0.3    # frecuencia natural \n",
    "zita = 0.7 # factor de amortiguamiento\n",
    "kp, ki = compute_pi(Gtermica, w0, zita)\n",
    "\n",
    "# aqui probamos y programamos nuestro controlador\n",
    "r0 = 50     # valor inicial de la referencia\n",
    "r1 = 60     # valor final de la referencia\n",
    "t0 = 50     # tiempo que dura en r0 \n",
    "t1 = 50     # tiempo que dura en r1\n",
    "ter.set_pid(my_thermal, kp=kp, ki=ki, kd=0, beta=0)\n",
    "ter.step_closed(my_thermal, t0=t0,t1=t1, r0=r0,r1=r1);\n",
    "\n",
    "# Aqui simulamos con el modelo nuestro controlador\n",
    "s = ct.TransferFunction.s\n",
    "T = w0**2/ (s**2 + 2*zita*w0*s + w0**2) #esta es la función de lazo cerrado\n",
    "simulate_closed_loop(Gtermica, T, t0, t1, r0, r1)"
   ]
  },
  {
   "cell_type": "markdown",
   "id": "8081016b-18a3-46b7-b6cb-c5a1174c9244",
   "metadata": {},
   "source": [
    "\n",
    "### Experimentos propuestos\n",
    "\n",
    "+ Cambie la frecuencia natural para los valores $\\omega_0= 0.1, 0.2, 0.3$. Ajuste el parámetro `t1` convenientemente para ver el experimento completo. Discuta los cambios que se producen y pruebe el controlador resultante con los botones. \n",
    "+ Con el valor de $\\omega_0$ en $0.3$, cambie los valores de $\\zeta$ a 0.25 y 0.5. Discuta los cambios que se producen y pruebe el controlador con los botones. \n",
    "+ Ejecute la siguiente celda e intente perturbar la temperatura. "
   ]
  },
  {
   "cell_type": "code",
   "execution_count": null,
   "id": "5a4b7fca-474b-4f40-bb8d-091b1e345182",
   "metadata": {},
   "outputs": [],
   "source": [
    "kp, ki = compute_pi(Gtermica, 0.4, 0.8)\n",
    "# aqui programo el controlador PID\n",
    "ter.set_pid(my_thermal, kp=kp, ki=ki, kd=0, beta=0)\n",
    "ter.step_closed(my_thermal, t0=0, t1=120, r0=45,r1=45);"
   ]
  },
  {
   "cell_type": "markdown",
   "id": "73667ed1-3df6-4efe-a706-b4c14aa7984a",
   "metadata": {},
   "source": [
    "\n",
    "#### Prueba de termociclado\n",
    "\n",
    "Para muchos procesos como las pruebas PCR se usan perfiles de temperatura que deben seguirse con precisión. A continuación mostramos el seguimiento de nuestro sistema a un perfil de temperatura similar al usado en pruebas PCR. "
   ]
  },
  {
   "cell_type": "code",
   "execution_count": null,
   "id": "62522171-ffcc-4d50-a5dd-eda29b751d64",
   "metadata": {},
   "outputs": [],
   "source": [
    "timevalues = [0, 50, 100, 150, 200, 250]\n",
    "refvalues = [90, 90, 50, 50, 70,70 ]\n",
    "ter.profile_closed(my_thermal, timevalues, refvalues);"
   ]
  },
  {
   "cell_type": "markdown",
   "id": "afe34b6d-8390-4ad4-8df2-96d9f5742d62",
   "metadata": {},
   "source": [
    "\n",
    "### Preguntas\n",
    "\n",
    "+  Para mejorar la respuesta a perturbaciones, ¿se debe aumentar o disminuir la frecuencia natural del sistema de segundo orden?\n",
    "+ ¿Como podria mejorarse la respuesta de este sistema en la prueba de termociclado?\n",
    "+ ¿Aproximadamente hasta que frecuencia natural funciona apropiadamente este sistema en lazo cerrado?\n"
   ]
  },
  {
   "cell_type": "markdown",
   "id": "fa0fb72d-3329-4fee-b4d3-5567659bae5f",
   "metadata": {},
   "source": [
    "\n",
    "## Control PID de una planta de segundo orden - Control de posición del UNDCMotor\n",
    "\n",
    "Teniendo en cuenta que el ángulo es la integral de la velocidad angular, cuando hacemos control de posición del UNDCMotor, se obtiene un [modelo lineal de segundo orden](https://github.com/nebisman/UNDCMotor/blob/main/docs/modelo_matematico_unmotor.pdf), dado por la siguiente función de transferencia:\n",
    "\n",
    "$$G(s)= \\frac{\\alpha}{s(\\tau\\, s + 1)}=\\frac{b_0}{a_2\\,s^2 + a_1\\,s}$$\n",
    "\n",
    "Note que, simplemente, multiplicamos la función de transferencia obtenida en velocidad por el factor de integración $1/s$ para obtener el ángulo. \n",
    "\n",
    "Con esta función de transferencia podemos sintetizar un controlador PID de dos grados de libertad que produzca la siguiente función de lazo cerrado:\n",
    "\n",
    "$$T(s)= \\frac{Y(s)}{R(s)}=\\frac{n\\,\\omega_0^3} {(s^2 + 2\\,\\zeta \\, \\omega_0 \\,s + \\omega_0^2)(s + n\\,\\omega_0)}$$\n",
    "\n",
    "La idea es tener polos dominantes de segundo orden y un polo lejano dado por el factor $n\\omega_0$. Las constantes del PID se obtienen de la siguiente manera:\n",
    "\n",
    "$$k_p = \\frac{\\omega_0^2\\,(1+2\\,\\zeta\\,n) - a_1}{b_0}$$\n",
    "\n",
    "$$k_i = \\frac{n\\, \\omega_0^3}{b_0}$$\n",
    "\n",
    "$$k_d = \\frac{\\omega_0\\,(n + 2\\,\\zeta) - a_2}{b_0}$$\n",
    "\n",
    "\n",
    "\n"
   ]
  },
  {
   "cell_type": "markdown",
   "id": "460a3577-546a-4060-89c8-603c2544389d",
   "metadata": {},
   "source": [
    "\n",
    "### Obtención del modelo para control de posición\n",
    "\n",
    "Para obtener el modelo apropiado para el control de posición, realizamos un experimento para obtener la función de transferencia del motor a bajas velocidades (por ejemplo a $100^o/s$)"
   ]
  },
  {
   "cell_type": "code",
   "execution_count": null,
   "id": "3abfcb30-dce1-4397-a024-f6e4f91e7eb8",
   "metadata": {},
   "outputs": [],
   "source": [
    "my_dcmotor = mot.MotorSystemIoT(plant_number = \"xxxx\", broker_address = \"192.168.1.100\");  \n",
    "G1, G2 = mot.get_models_prbs(my_dcmotor, yop = 100)"
   ]
  },
  {
   "cell_type": "code",
   "execution_count": null,
   "id": "2b0f6af2-2310-4e24-8e2b-e7a622df03e7",
   "metadata": {},
   "outputs": [],
   "source": [
    "# aqui calculamos el PID para la planta\n",
    "def compute_pid(G, w0, zita, n):\n",
    "    \"\"\"\n",
    "    This function computes a 2-DOF - PID controller. See Astrom and Murray\n",
    "    Parameters:\n",
    "       G: system transfer function\n",
    "       w0: desired natural frequency\n",
    "       zita: desired damping factor     \n",
    "    \"\"\"    \n",
    "    # plant parameters\n",
    "    b0 = G.num[0][0][0]\n",
    "    a2 = G.den[0][0][1]\n",
    "    a1 = G.den[0][0][2]\n",
    "\n",
    "    \n",
    "    # computation of kp, ki and kd\n",
    "    kp = (w0**2 * (1 + 2*zita*n) - a1) / b0\n",
    "    ki = n * w0**3 / b0\n",
    "    kd = (w0 * (n + 2*zita) - a2) / b0\n",
    "    return kp, ki, kd"
   ]
  },
  {
   "cell_type": "code",
   "execution_count": null,
   "id": "4be482d6-5be1-42a4-933e-2355f3c9165a",
   "metadata": {},
   "outputs": [],
   "source": [
    "# aqui definimos nuestra planta\n",
    "alpha =  # ponga el valor del experimento\n",
    "tau =    # ponga el valor del experimento\n",
    "\n",
    "# definimos la planta en posicion poniendo un integrador adicional representado por \n",
    "# el cero en el denominador Gpos= alpha/(tau*s^2 + s)\n",
    "Gposicion = ct.tf(alpha, [tau, 1, 0])\n"
   ]
  },
  {
   "cell_type": "code",
   "execution_count": null,
   "id": "575b5c82-ab9d-4012-9087-5f6cafd67ab9",
   "metadata": {},
   "outputs": [],
   "source": [
    "# calculo del controlador PID para una función de lazo cerrado de tercer orden\n",
    "\n",
    "w0 = 5    # frecuencia natural \n",
    "zita = .7   # factor de amortiguamiento\n",
    "n = 4        # el polo adicional se ubica en n*w0 \n",
    "kp, ki, kd = compute_pid(Gposicion, w0, zita, n)\n",
    "\n",
    "# aqui programo el controlador\n",
    "mot.set_pid(my_dcmotor, kp=kp, ki=ki, kd=kd, beta=0, N=5,output=\"angle\", deadzone=0)\n",
    "\n",
    "# aqui hago el experimento de la respuesta al escalón en lazo cerrado\n",
    "r0 = 0     # valor inicial de la referencia\n",
    "r1 = 180   # valor final de la referencia\n",
    "t0 = 0.5   # tiempo que dura en r0 \n",
    "t1 = 4    # tiempo que dura en r1\n",
    "mot.step_closed(my_dcmotor, t0=t0,t1=t1, r0=r0,r1=r1);\n",
    "\n",
    "# aqui simulo la respuesta con el modelo matemático para comparar\n",
    "s = ct.TransferFunction.s\n",
    "T = n*w0**3/((s**2 + 2*zita*w0*s + w0**2)*(s + n*w0))\n",
    "simulate_closed_loop(Gposicion, T, w0, zita, t0, t1, r0, r1)\n",
    "\n"
   ]
  },
  {
   "cell_type": "markdown",
   "id": "8a86058b-28ee-49d7-8237-80b2cc5addd1",
   "metadata": {},
   "source": [
    "### Experimentos propuestos\n",
    "\n",
    "+ Varie $\\omega$ en los valores de 1, 3, 4.5. Tenga en cuenta de cambiar el parametro t1 para ver completo el experimento hasta el estado estacionario. Pruebe cada controlador manualmente con el potenciómetro y \"perciba\" el control.\n",
    "  \n",
    "+ Determine experimentalmente el mejor valor de $\\omega$ antes de que el desempeño en lazo cerrado se degrade.  \n",
    "\n",
    "+ Con $\\omega=4$ varíe el parámetro $\\zeta$ en los valores de 0.3, 0.5 y 0.9. Pruebe cada controlador manualmente con el potenciómetro y \"perciba\" el control.\n",
    "\n",
    "+ Diseñe una trayectoria y use la función profile_closed para ver la respuesta del controlador de posición."
   ]
  },
  {
   "cell_type": "markdown",
   "id": "d7edecac-5058-4d60-a31f-fc7c3f05816f",
   "metadata": {},
   "source": [
    "---\n",
    "\n",
    "# Preguntas\n",
    "\n",
    "+ Cuando vamos a realizar control de posición, ¿Por qué es conveniente realizar un modelo de a bajas velocidades para el diseño y cálculo del controlador?\n",
    "\n",
    "+ Si se requiere que el sistema de posición siga una trayectoria precisa mientras mantiene una velocidad precisa especificada, ¿Cómo debería modificarse el controlador?\n"
   ]
  }
 ],
 "metadata": {
  "kernelspec": {
   "display_name": "Python 3 (ipykernel)",
   "language": "python",
   "name": "python3"
  },
  "language_info": {
   "codemirror_mode": {
    "name": "ipython",
    "version": 3
   },
   "file_extension": ".py",
   "mimetype": "text/x-python",
   "name": "python",
   "nbconvert_exporter": "python",
   "pygments_lexer": "ipython3",
   "version": "3.12.4"
  },
  "widgets": {
   "application/vnd.jupyter.widget-state+json": {
    "state": {},
    "version_major": 2,
    "version_minor": 0
   }
  }
 },
 "nbformat": 4,
 "nbformat_minor": 5
}
