{
 "cells": [
  {
   "cell_type": "markdown",
   "id": "c9422e16-5068-4ebe-b498-e631da989eac",
   "metadata": {},
   "source": [
    "\n",
    "# Control del PI y PID del UNDCMotor y el UNThermal\n",
    "\n",
    "El UNDCMotor es un minilaboratorio que permite el control de velocidad y posición de un motor DC con el fin de ilustrar los principios básicos del control autómatico.\n"
   ]
  },
  {
   "cell_type": "markdown",
   "id": "3b961e38-1df0-478e-9e27-47d673262f3d",
   "metadata": {},
   "source": [
    "## Configuración"
   ]
  },
  {
   "cell_type": "markdown",
   "id": "51c5d6ab-6960-46b6-82c4-92d959f3ffd0",
   "metadata": {},
   "source": [
    "\n",
    "### Instalación de la libreria unmotor\n",
    "\n",
    "Descomentar y ejecutar esta celda solo para instalar por primera vez o actualizar la libreria. __Asegúrese de instalar  [Git](https://git-scm.com/download/win/ \"Git\").__\n",
    "\n"
   ]
  },
  {
   "cell_type": "code",
   "execution_count": null,
   "id": "0d0a5fb1-ea33-483f-b97d-cbbafcbd5cbc",
   "metadata": {
    "jupyter": {
     "is_executing": true
    },
    "scrolled": true
   },
   "outputs": [],
   "source": [
    "import subprocess\n",
    "command = [\"pip\", \"install\", \"-I\",\"--user\", \"git+https://github.com/nebisman/UNDCMotor.git@main#subdirectory=code/python_code\"]\n",
    "process = subprocess.Popen(command, stdout=subprocess.PIPE, stderr=subprocess.STDOUT, text=True)\n",
    "for line in process.stdout:\n",
    "    print(line.strip())"
   ]
  },
  {
   "cell_type": "markdown",
   "id": "bf84d1bf-50ac-4dd8-95db-04d44c29336a",
   "metadata": {},
   "source": [
    "\n",
    "### Instalación de la libreria unthermal\n",
    "\n",
    "Descomentar y ejecutar esta celda solo para instalar por primera vez o actualizar la libreria. __Asegúrese de instalar  [Git](https://git-scm.com/download/win/ \"Git\").__\n",
    "\n"
   ]
  },
  {
   "cell_type": "code",
   "execution_count": null,
   "id": "f60685af-4eb1-45fb-92cc-e334485b82ff",
   "metadata": {
    "ExecuteTime": {
     "start_time": "2024-08-19T15:41:27.487415Z"
    },
    "jupyter": {
     "is_executing": true
    },
    "scrolled": true
   },
   "outputs": [],
   "source": [
    "import subprocess\n",
    "command = [\"pip\", \"install\", \"-I\",\"--user\", \"git+https://github.com/nebisman/UNThermal.git@main#subdirectory=code/python_code\"]\n",
    "process = subprocess.Popen(command, stdout=subprocess.PIPE, stderr=subprocess.STDOUT, text=True)\n",
    "for line in process.stdout:\n",
    "    print(line.strip())"
   ]
  },
  {
   "cell_type": "markdown",
   "id": "3af7a528-4000-4979-9288-154c34036842",
   "metadata": {},
   "source": [
    "\n",
    "### Importación de comandos de la libreria unmotor y de Matplotlib \n",
    "\n",
    "A continuación importamos la libreria unmotor, la libreria unthermal y otras librerias necesarias para realizar trabajo adicional con las figuras. "
   ]
  },
  {
   "cell_type": "code",
   "execution_count": null,
   "id": "initial_id",
   "metadata": {
    "ExecuteTime": {
     "end_time": "2024-08-26T13:40:29.579361Z",
     "start_time": "2024-08-26T13:40:28.740505Z"
    },
    "scrolled": true
   },
   "outputs": [],
   "source": [
    "# importacion de graficos y funciones interactivas\n",
    "%matplotlib widget\n",
    "import matplotlib.pyplot as plt\n",
    "import numpy as np\n",
    "\n",
    "# importación de las librerias unmotor, unthermal y control\n",
    "import unmotor as mot\n",
    "import unthermal as ter\n",
    "import control as ct"
   ]
  },
  {
   "cell_type": "markdown",
   "id": "ae645517-4b81-4e87-b4b3-d3330a977c71",
   "metadata": {},
   "source": [
    "\n",
    "---"
   ]
  },
  {
   "cell_type": "markdown",
   "id": "2ccc1ba9-29f7-403f-a992-ac17488f4d8b",
   "metadata": {},
   "source": [
    "\n",
    "## Control PI de una planta de primer orden\n",
    "\n",
    "Si una planta puede ser bien aproximada por un sistema de primer orden, se puede sintetizar directamente un controlador PI a partir del modelo.\n"
   ]
  },
  {
   "cell_type": "markdown",
   "id": "67432150-1357-4caf-a1b5-2a3179f78211",
   "metadata": {},
   "source": [
    "\n",
    "### Control PI del motor en velocidad\n",
    "\n",
    "Vamos a hacer un controlador para el motor para la velocidad de $300^o/s$. Para ello primero vamos a hacer un modelo \"fresco\" del sistema y de allí tomamos los parámetros $\\alpha$ y $\\tau$.\n"
   ]
  },
  {
   "cell_type": "code",
   "execution_count": null,
   "id": "96b1c1a6-8c25-4af9-8da1-53fa78e2a1b2",
   "metadata": {},
   "outputs": [],
   "source": [
    "my_dcmotor = mot.MotorSystemIoT(plant_number = \"xxxx\", broker_address = \"192.168.1.100\");  \n",
    "G1, G2 = mot.get_models_prbs(my_dcmotor, yop = 300)"
   ]
  },
  {
   "cell_type": "markdown",
   "id": "25c02af8-1ea5-45c6-a087-4658cd3bc79e",
   "metadata": {},
   "source": [
    "####  Funciones para el calculo y simulación del controlador en lazo cerrado\n",
    "\n",
    "\n",
    "Al usar un controlador PI de dos grados de libertad para una planta de primer orden de la forma\n",
    "\n",
    "$$G(s)=\\frac{\\alpha}{\\tau\\, s +1}$$,\n",
    "\n",
    "se obtiene la función de transferencia de lazo cerrado dada por el siguiente sistema de segundo orden\n",
    "\n",
    "$$T(s) = \\frac{Y(s)}{R(s)}=\\frac{\\omega_0^2}{s^2 + 2\\,\\zeta\\,\\omega_0s + \\omega_0^2}$$\n",
    "\n",
    "las constantes $k_p$ y  $k_i$ están, respectivamente, dadas por:\n",
    "\n",
    "$$k_p = \\frac{2\\,\\zeta\\,\\omega_0\\,\\tau-1}{\\alpha}$$\n",
    "\n",
    "$$k_i = \\frac{\\omega_0^2\\,\\tau}{\\alpha}$$\n",
    "\n",
    "Las siguientes funciones permiten calcular el controlador PI y simular su respuesta en lazo cerrado.\n"
   ]
  },
  {
   "cell_type": "code",
   "execution_count": null,
   "id": "bba5247d-05d5-40c2-ab5d-c05704f509b2",
   "metadata": {},
   "outputs": [],
   "source": [
    "def compute_pi(G, w0, zita):\n",
    "    \"\"\"\n",
    "    This function computes a 2-DOF - PI controller. See Astrom and Murray \"Feedback Systems: An Introduction for Scientist and Engineers\"\n",
    "    Parameters:\n",
    "       G: system transfer function\n",
    "       w0: desired natural frequency\n",
    "       zita: desired damping factor     \n",
    "    \"\"\"    \n",
    "    # plant parameters\n",
    "    alpha = G.num[0][0][0] \n",
    "    tau = G.den[0][0][0]\n",
    "    \n",
    "    # computation of kp and ki\n",
    "    kp = (2*zita*w0*tau - 1)/alpha\n",
    "    ki = w0**2*tau / alpha\n",
    "    return kp, ki\n",
    "\n",
    "\n",
    "\n",
    "def simulate_closed_loop(G, T,  w0, zita, t0, t1, r0, r1):\n",
    "    \"\"\"\n",
    "    This function simulates and plots the expected response according to the obtained model.\n",
    "    Parameters:\n",
    "       G: open-loop system transfer function\n",
    "       T: closed-loop function\n",
    "       r0: initial reference value\n",
    "       r1: final reference value\n",
    "       t0: time of the initial reference value\n",
    "       t1: duration of the final reference value     \n",
    "    \"\"\"\n",
    "    #compute the control signal\n",
    "    Gur = ct.minreal(T/G)\n",
    "    t = np.linspace(0, t0 + t1, 200)\n",
    "    r = []\n",
    "    for tc in t:\n",
    "        if tc <= t0:\n",
    "            r.append(0)\n",
    "        else:\n",
    "            r.append(r1-r0)\n",
    "    r = np.array(r)\n",
    "    tsim, ysim  = ct.forced_response(T, t, r)\n",
    "    tsim, usim  = ct.forced_response(Gur, t, r)\n",
    "    fig = plt.gcf()\n",
    "    ay, au = fig.get_axes()\n",
    "    ay.plot(tsim, ysim + r0, color = \"#ff6600ff\", alpha= 0.6)\n",
    "    au.plot(tsim, usim, color =\"#37c8abff\", alpha= 1)\n",
    "    ay.text(0, r1,  'Simulated output', fontsize=12, color='#ff6600ff')    \n",
    "    fig.canvas.draw()\n",
    "    return "
   ]
  },
  {
   "cell_type": "markdown",
   "id": "f231ba55-ba7f-4b5d-951a-cafe83b573e4",
   "metadata": {},
   "source": [
    "####  Definición de la planta\n",
    "Mediante el siguiente codigo definimos el UNDCMotor como una planta de primer orden de la forma $G_{v}(s)=\\frac{\\alpha}{\\tau\\,s + 1}$."
   ]
  },
  {
   "cell_type": "code",
   "execution_count": null,
   "id": "2d8db212-feb1-492d-b469-abffd1be8276",
   "metadata": {},
   "outputs": [],
   "source": [
    "# aqui definimos nuestra planta\n",
    "\n",
    "alpha = 846.5 # ponga el valor de su modelo \n",
    "tau =  0.309 # ponga el valor de su modelo\n",
    "Gmotor = ct.tf(alpha, [tau, 1])"
   ]
  },
  {
   "cell_type": "markdown",
   "id": "53f377e9-5363-4c99-a745-8ced3e029af3",
   "metadata": {},
   "source": [
    "#### Diseño, calculo y respuesta al escalón con el PI"
   ]
  },
  {
   "cell_type": "code",
   "execution_count": null,
   "id": "b61d407e-74d4-42e9-a95f-e6e54a8c69ce",
   "metadata": {},
   "outputs": [],
   "source": [
    "# calculo del controlador\n",
    "w0 = 5 # frecuencia natural \n",
    "zita = .7 # factor de amortiguamiento\n",
    "kp, ki = compute_pi(Gmotor, w0, zita)\n",
    "\n",
    "# aqui programo el controlador PID\n",
    "mot.set_pid(my_dcmotor, kp=kp, ki=ki, kd=0, beta=0, output=\"speed\")\n",
    "\n",
    "# aqui hago el experimento de la respuesta al escalón en lazo cerrado\n",
    "\n",
    "r0 = 0     # valor inicial de la referencia\n",
    "r1 = 300   # valor final de la referencia\n",
    "t0 = 0.5   # tiempo que dura en r0 \n",
    "t1 = 2     # tiempo que dura en r1\n",
    "\n",
    "mot.step_closed(my_dcmotor, t0=t0,t1=t1, r0=r0,r1=r1);\n",
    "\n",
    "# aqui simulo la respuesta con el modelo matemático para comparar\n",
    "s = ct.TransferFunction.s\n",
    "T = w0**2/ (s**2 + 2*zita*w0*s + w0**2)\n",
    "simulate_closed_loop(Gmotor, T, w0, zita, t0, t1, r0, r1)\n"
   ]
  },
  {
   "cell_type": "markdown",
   "id": "711b9860-4609-4b10-908a-ac01c70bc2b9",
   "metadata": {},
   "source": [
    "\n",
    "### Experimentos propuestos\n",
    "\n",
    "+ Experimente con los valores de $\\omega_0$ de 5, 10, 15.  Tenga en cuenta de cambiar el parametro `t1` para ver completo el experimento hasta el estado estacionario. Discuta con su compañero los cambios que se producen. Pruebe cada controlador manualmente con el potenciómetro y \"perciba\" su funcionamiento en la realidad.\n",
    "+ Determine experimentalmente el mejor valor de $\\omega$ antes de que el desempeño en lazo cerrado se degrade completamente. \n",
    "+ Con el valor de $\\omega_0$ en $15$, cambie los valores de $\\zeta$ a 0.5, 0.7 y 0.9.  Discuta los cambios que se producen. Pruebe cada controlador manualmente con el potenciómetro y \"perciba\" su funcionamiento en la realidad.\n",
    "+ Ejecute la siguiente celda y pruebe el controlador con el potenciometro para diferentes velocidades. Intente frenar o acelerar **suavemente** la rueda.  "
   ]
  },
  {
   "cell_type": "code",
   "execution_count": null,
   "id": "0a584f23-f389-43cf-aa50-4991c3779075",
   "metadata": {},
   "outputs": [],
   "source": [
    "kp, ki = compute_pi(Gmotor, 20, 0.7)\n",
    "# aqui programo el controlador PID\n",
    "mot.set_pid(my_dcmotor, kp=kp, ki=ki, kd=0, beta=0, output=\"speed\")\n",
    "mot.step_closed(my_dcmotor, t0=t0,t1=100, r0=0,r1=300);"
   ]
  },
  {
   "cell_type": "markdown",
   "id": "b21e5ff0-6aa4-46c4-93bc-14c222854a97",
   "metadata": {},
   "source": [
    "#### Seguimiento de perfiles de velocidad\n",
    "\n",
    "Mediante la siguiente función podemos hacer la prueba de respuesta a un perfil. Cada punto en el tiempo es un vertice de la curva que se interpola linealmente."
   ]
  },
  {
   "cell_type": "code",
   "execution_count": null,
   "id": "330e46af-1724-4b36-9a90-10f5d56adad8",
   "metadata": {},
   "outputs": [],
   "source": [
    "timevalues = [0, 2, 4 , 7, 9]\n",
    "refvalues = [0, 360, 720, 360, 360]\n",
    "mot.profile_closed(my_dcmotor, timevalues, refvalues);"
   ]
  },
  {
   "cell_type": "markdown",
   "id": "a8d855c3-9e67-4fc5-a02e-9b8c71dd6e1f",
   "metadata": {},
   "source": [
    "\n",
    "### Preguntas\n",
    "\n",
    "+ Según el los experimentos realizados, ¿cómo es el error de posición y el error de velocidad del motor con el controlador PI?\n",
    "+ ¿Como podriamos mejorar el seguimiento de rampas, es decir, de perfiles de velocidad?\n",
    "\n"
   ]
  },
  {
   "cell_type": "markdown",
   "id": "8b24157d-d733-44a9-9819-2fb993b2fede",
   "metadata": {},
   "source": [
    "### Control PI del sistema térmico\n",
    "\n",
    "A continuación vamos a hacer un control PI del sistema térmico siguiendo los mismos pasos."
   ]
  },
  {
   "cell_type": "markdown",
   "id": "d60cd0dd-c6fa-4afd-929f-e2bd85cd4dd6",
   "metadata": {},
   "source": [
    "#### Definición de la planta como sistema IoT\n",
    "A continuación definimos la planta como sistema IoT"
   ]
  },
  {
   "cell_type": "code",
   "execution_count": null,
   "id": "4e701347-de63-465c-a113-f012b9fad120",
   "metadata": {},
   "outputs": [],
   "source": [
    "# aqui definimos el sistems termico como sistema IoT\n",
    "my_thermal = ter.ThermalSystemIoT(plant_number = \"XXXX\", broker_address = \"192.168.1.100\");  "
   ]
  },
  {
   "cell_type": "markdown",
   "id": "18831147-8ee1-49af-a68d-6e303d0e3ecb",
   "metadata": {},
   "source": [
    "#### Definición del modelo de la planta\n",
    "A continuación definimos el modelo de la planta usando los parámetros encontrados en el experimento con la PRBS que mejor nos dió en la práctica anterior"
   ]
  },
  {
   "cell_type": "code",
   "execution_count": null,
   "id": "9607ff48-74a6-48b7-b684-2e2e7313f4ab",
   "metadata": {},
   "outputs": [],
   "source": [
    "# aqui definimos nuestra planta\n",
    "alpha =  # poner el valor de alpha de su modelo\n",
    "tau =    # poner el valor de tau de su modelo\n",
    "Gtermica = ct.tf(alpha, [tau, 1])"
   ]
  },
  {
   "cell_type": "markdown",
   "id": "d43d57b5-4162-4522-9835-6e5f75d95cdd",
   "metadata": {},
   "source": [
    "#### Diseño, cálculo y respuesta al escalón del controlador PI\n",
    "A continuación calculamos el controlador PI para nuestra planta con el modelo encontrado previamente. "
   ]
  },
  {
   "cell_type": "code",
   "execution_count": null,
   "id": "92580e9f-9cbb-44ef-9014-76781bfb4337",
   "metadata": {},
   "outputs": [],
   "source": [
    "# aqui calculamoss nuestro controlador\n",
    "w0 = 0.3    # frecuencia natural \n",
    "zita = 0.7 # factor de amortiguamiento\n",
    "kp, ki = compute_pi(Gtermica, w0, zita)\n",
    "\n",
    "# aqui probamos y programamos nuestro controlador\n",
    "r0 = 50     # valor inicial de la referencia\n",
    "r1 = 60     # valor final de la referencia\n",
    "t0 = 50     # tiempo que dura en r0 \n",
    "t1 = 50     # tiempo que dura en r1\n",
    "ter.set_pid(my_thermal, kp=kp, ki=ki, kd=0, beta=0)\n",
    "ter.step_closed(my_thermal, t0=t0,t1=t1, r0=r0,r1=r1);\n",
    "\n",
    "# Aqui simulamos con el modelo nuestro controlador\n",
    "T = w0**2/ (s**2 + 2*zita*w0*s + w0**2) #esta es la función de lazo cerrado\n",
    "simulate_closed_loop(Gtermica, T, w0, zita, t0, t1, r0, r1)"
   ]
  },
  {
   "cell_type": "markdown",
   "id": "8081016b-18a3-46b7-b6cb-c5a1174c9244",
   "metadata": {},
   "source": [
    "\n",
    "### Experimentos propuestos\n",
    "\n",
    "+ Cambie la frecuencia natural para los valores $\\omega_0= 0.1, 0.2, 0.3$. Ajuste el parámetro `t1` convenientemente para ver el experimento completo. Discuta los cambios que se producen y pruebe el controlador resultante con los botones. \n",
    "+ Con el valor de $\\omega_0$ en $0.3$, cambie los valores de $\\zeta$ a 0.25 y 0.5. Discuta los cambios que se producen y pruebe el controlador con los botones. \n",
    "+ Ejecute la siguiente celda e intente perturbar la temperatura. "
   ]
  },
  {
   "cell_type": "code",
   "execution_count": null,
   "id": "5a4b7fca-474b-4f40-bb8d-091b1e345182",
   "metadata": {},
   "outputs": [],
   "source": [
    "kp, ki = compute_pi(Gtermica, 0.4, 0.8)\n",
    "# aqui programo el controlador PID\n",
    "ter.set_pid(my_thermal, kp=kp, ki=ki, kd=0, beta=0)\n",
    "ter.step_closed(my_thermal, t0=0, t1=120, r0=45,r1=45);"
   ]
  },
  {
   "cell_type": "markdown",
   "id": "73667ed1-3df6-4efe-a706-b4c14aa7984a",
   "metadata": {},
   "source": [
    "\n",
    "#### Prueba de termociclado\n",
    "\n",
    "Para muchos procesos como las pruebas PCR se usan perfiles de temperatura que deben seguirse con precisión. A continuación mostramos el seguimiento de nuestro sistema a un perfil de temperatura similar al usado en pruebas PCR. "
   ]
  },
  {
   "cell_type": "code",
   "execution_count": null,
   "id": "62522171-ffcc-4d50-a5dd-eda29b751d64",
   "metadata": {},
   "outputs": [],
   "source": [
    "timevalues = [0, 50, 100, 150, 200, 250]\n",
    "refvalues = [90, 90, 50, 50, 70,70 ]\n",
    "ter.profile_closed(my_thermal, timevalues, refvalues);"
   ]
  },
  {
   "cell_type": "markdown",
   "id": "afe34b6d-8390-4ad4-8df2-96d9f5742d62",
   "metadata": {},
   "source": [
    "\n",
    "### Preguntas\n",
    "\n",
    "+  Para mejorar la respuesta a perturbaciones, ¿se debe aumentar o disminuir la frecuencia natural del sistema de segundo orden?\n",
    "+ ¿Como podria mejorarse la respuesta de este sistema en la prueba de termociclado?\n",
    "+ ¿Aproximadamente hasta que frecuencia natural funciona apropiadamente este sistema en lazo cerrado?\n"
   ]
  },
  {
   "cell_type": "markdown",
   "id": "fa0fb72d-3329-4fee-b4d3-5567659bae5f",
   "metadata": {},
   "source": [
    "\n",
    "## Control PID de una planta de segundo orden - Control de posición del UNDCMotor\n",
    "\n",
    "Teniendo en cuenta que el ángulo es la integral de la velocidad angular, cuando hacemos control de posición del UNDCMotor, se obtiene un [modelo lineal de segundo orden](https://github.com/nebisman/UNDCMotor/blob/main/docs/modelo_matematico_unmotor.pdf), dado por la siguiente función de transferencia:\n",
    "\n",
    "$$G(s)= \\frac{\\alpha}{s(\\tau\\, s + 1)}=\\frac{b_0}{a_2\\,s^2 + a_1\\,s}$$\n",
    "\n",
    "Note que, simplemente, multiplicamos la función de transferencia obtenida en velocidad por el factor de integración $1/s$ para obtener el ángulo. \n",
    "\n",
    "Con esta función de transferencia podemos sintetizar un controlador PID de dos grados de libertad que produzca la siguiente función de lazo cerrado:\n",
    "\n",
    "$$T(s)= \\frac{Y(s)}{R(s)}=\\frac{n\\,\\omega_0^3} {(s^2 + 2\\,\\zeta \\, \\omega_0 \\,s + \\omega_0^2)(s + n\\,\\omega_0)}$$\n",
    "\n",
    "La idea es tener polos dominantes de segundo orden y un polo lejano dado por el factor $n\\omega_0$. Las constantes del PID se obtienen de la siguiente manera:\n",
    "\n",
    "$$k_p = \\frac{\\omega_0^2\\,(1+2\\,\\zeta\\,n) - a_1}{b_0}$$\n",
    "\n",
    "$$k_i = \\frac{n\\, \\omega_0^3}{b_0}$$\n",
    "\n",
    "$$k_d = \\frac{\\omega_0\\,(n + 2\\,\\zeta) - a_2}{b_0}$$\n",
    "\n",
    "\n",
    "\n"
   ]
  },
  {
   "cell_type": "markdown",
   "id": "460a3577-546a-4060-89c8-603c2544389d",
   "metadata": {},
   "source": [
    "\n",
    "### Obtención del modelo para control de posición\n",
    "\n",
    "Para obtener el modelo apropiado para el control de posición, realizamos un experimento para obtener la función de transferencia del motor a bajas velocidades (por ejemplo a $100^o/s$)"
   ]
  },
  {
   "cell_type": "code",
   "execution_count": null,
   "id": "3abfcb30-dce1-4397-a024-f6e4f91e7eb8",
   "metadata": {},
   "outputs": [],
   "source": [
    "my_dcmotor = mot.MotorSystemIoT(plant_number = \"xxxx\", broker_address = \"192.168.1.100\");  \n",
    "G1, G2 = mot.get_models_prbs(my_dcmotor, yop = 100)"
   ]
  },
  {
   "cell_type": "code",
   "execution_count": null,
   "id": "2b0f6af2-2310-4e24-8e2b-e7a622df03e7",
   "metadata": {},
   "outputs": [],
   "source": [
    "# aqui calculamos el PID para la planta\n",
    "def compute_pid(G, w0, zita, nw):\n",
    "    \"\"\"\n",
    "    This function computes a 2-DOF - PID controller. See Astrom and Murray\n",
    "    Parameters:\n",
    "       G: system transfer function\n",
    "       w0: desired natural frequency\n",
    "       zita: desired damping factor     \n",
    "    \"\"\"    \n",
    "    # plant parameters\n",
    "    b0 = G.num[0][0][0]\n",
    "    a2 = G.den[0][0][1]\n",
    "    a1 = G.den[0][0][2]\n",
    "\n",
    "    \n",
    "    # computation of kp, ki and kd\n",
    "    kp = (w0**2 * (1 + 2*zita*n) - a1) / b0\n",
    "    ki = n * w0**3 / b0\n",
    "    kd = (w0 * (n + 2*zita) - a2) / b0\n",
    "    return kp, ki, kd"
   ]
  },
  {
   "cell_type": "code",
   "execution_count": null,
   "id": "4be482d6-5be1-42a4-933e-2355f3c9165a",
   "metadata": {},
   "outputs": [],
   "source": [
    "# aqui definimos nuestra planta\n",
    "alpha =  # ponga el valor del experimento\n",
    "tau =    # ponga el valor del experimento\n",
    "\n",
    "# definimos la planta en posicion poniendo un integrador adicional representado por \n",
    "# el cero en el denominador Gpos= alpha/(tau*s^2 + s)\n",
    "Gposicion = ct.tf(alpha, [tau, 1, 0])\n"
   ]
  },
  {
   "cell_type": "code",
   "execution_count": null,
   "id": "575b5c82-ab9d-4012-9087-5f6cafd67ab9",
   "metadata": {},
   "outputs": [],
   "source": [
    "# calculo del controlador PID para una función de lazo cerrado de tercer orden\n",
    "\n",
    "w0 = 5    # frecuencia natural \n",
    "zita = .7   # factor de amortiguamiento\n",
    "n = 4        # el polo adicional se ubica en n*w0 \n",
    "kp, ki, kd = compute_pid(Gposicion, w0, zita, n)\n",
    "\n",
    "# aqui programo el controlador\n",
    "mot.set_pid(my_dcmotor, kp=kp, ki=ki, kd=kd, beta=0, N=5,output=\"angle\", deadzone=0)\n",
    "\n",
    "# aqui hago el experimento de la respuesta al escalón en lazo cerrado\n",
    "r0 = 0     # valor inicial de la referencia\n",
    "r1 = 180   # valor final de la referencia\n",
    "t0 = 0.5   # tiempo que dura en r0 \n",
    "t1 = 4    # tiempo que dura en r1\n",
    "mot.step_closed(my_dcmotor, t0=t0,t1=t1, r0=r0,r1=r1);\n",
    "\n",
    "# aqui simulo la respuesta con el modelo matemático para comparar\n",
    "s = ct.TransferFunction.s\n",
    "T = n*w0**3/((s**2 + 2*zita*w0*s + w0**2)*(s + n*w0))\n",
    "simulate_closed_loop(Gmotor, T, w0, zita, t0, t1, r0, r1)\n",
    "\n"
   ]
  },
  {
   "cell_type": "markdown",
   "id": "8a86058b-28ee-49d7-8237-80b2cc5addd1",
   "metadata": {},
   "source": [
    "### Experimentos propuestos\n",
    "\n",
    "+ Varie $\\omega$ en los valores de 1, 3, 4.5. Tenga en cuenta de cambiar el parametro t1 para ver completo el experimento hasta el estado estacionario. Pruebe cada controlador manualmente con el potenciómetro y \"perciba\" el control.\n",
    "  \n",
    "+ Determine experimentalmente el mejor valor de $\\omega$ antes de que el desempeño en lazo cerrado se degrade.  \n",
    "\n",
    "+ Con $\\omega=4$ varíe el parámetro $\\zeta$ en los valores de 0.3, 0.5 y 0.9. Pruebe cada controlador manualmente con el potenciómetro y \"perciba\" el control.\n",
    "\n",
    "+ Diseñe una trayectoria y use la función profile_closed para ver la respuesta del controlador de posición."
   ]
  },
  {
   "cell_type": "markdown",
   "id": "d7edecac-5058-4d60-a31f-fc7c3f05816f",
   "metadata": {},
   "source": [
    "---\n",
    "\n",
    "# Preguntas\n",
    "\n",
    "+ Cuando vamos a realizar control de posición, ¿Por qué es conveniente realizar un modelo de a bajas velocidades para el diseño y cálculo del controlador?\n",
    "\n",
    "+ Si se requiere que el sistema de posición siga una trayectoria precisa mientras mantiene una velocidad precisa especificada, ¿Cómo debería modificarse el controlador?\n"
   ]
  }
 ],
 "metadata": {
  "kernelspec": {
   "display_name": "Python 3 (ipykernel)",
   "language": "python",
   "name": "python3"
  },
  "language_info": {
   "codemirror_mode": {
    "name": "ipython",
    "version": 3
   },
   "file_extension": ".py",
   "mimetype": "text/x-python",
   "name": "python",
   "nbconvert_exporter": "python",
   "pygments_lexer": "ipython3",
   "version": "3.12.4"
  },
  "widgets": {
   "application/vnd.jupyter.widget-state+json": {
    "state": {
     "04eff5213a5d40c8b99e64529340679d": {
      "model_module": "@jupyter-widgets/base",
      "model_module_version": "2.0.0",
      "model_name": "LayoutModel",
      "state": {}
     },
     "07f2a43a978546ebae4c605147f30a66": {
      "model_module": "@jupyter-widgets/base",
      "model_module_version": "2.0.0",
      "model_name": "LayoutModel",
      "state": {}
     },
     "10b3e74374434f9aa724632cccb3961e": {
      "model_module": "jupyter-matplotlib",
      "model_module_version": "^0.11",
      "model_name": "ToolbarModel",
      "state": {
       "_model_module_version": "^0.11",
       "_view_module_version": "^0.11",
       "collapsed": true,
       "layout": "IPY_MODEL_901b507dc4a3467ea1fac1b6ca6bd52a",
       "orientation": "vertical",
       "toolitems": [
        [
         "Home",
         "Reset original view",
         "home",
         "home"
        ],
        [
         "Back",
         "Back to previous view",
         "arrow-left",
         "back"
        ],
        [
         "Forward",
         "Forward to next view",
         "arrow-right",
         "forward"
        ],
        [
         "Pan",
         "Left button pans, Right button zooms\nx/y fixes axis, CTRL fixes aspect",
         "arrows",
         "pan"
        ],
        [
         "Zoom",
         "Zoom to rectangle\nx/y fixes axis",
         "square-o",
         "zoom"
        ],
        [
         "Download",
         "Download plot",
         "floppy-o",
         "save_figure"
        ]
       ]
      }
     },
     "184bc2f0c84345e0872e3d2a6a76446e": {
      "model_module": "jupyter-matplotlib",
      "model_module_version": "^0.11",
      "model_name": "ToolbarModel",
      "state": {
       "_model_module_version": "^0.11",
       "_view_module_version": "^0.11",
       "collapsed": true,
       "layout": "IPY_MODEL_c9b99b3ff04e4892a19cfd27feb6b2b3",
       "orientation": "vertical",
       "toolitems": [
        [
         "Home",
         "Reset original view",
         "home",
         "home"
        ],
        [
         "Back",
         "Back to previous view",
         "arrow-left",
         "back"
        ],
        [
         "Forward",
         "Forward to next view",
         "arrow-right",
         "forward"
        ],
        [
         "Pan",
         "Left button pans, Right button zooms\nx/y fixes axis, CTRL fixes aspect",
         "arrows",
         "pan"
        ],
        [
         "Zoom",
         "Zoom to rectangle\nx/y fixes axis",
         "square-o",
         "zoom"
        ],
        [
         "Download",
         "Download plot",
         "floppy-o",
         "save_figure"
        ]
       ]
      }
     },
     "19cd64a7f2d74b049b3f652f840b3b53": {
      "model_module": "jupyter-matplotlib",
      "model_module_version": "^0.11",
      "model_name": "MPLCanvasModel",
      "state": {
       "_cursor": "default",
       "_data_url": "data:image/png;base64,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",
       "_figure_label": "Figure 1",
       "_image_mode": "diff",
       "_message": "(x, y) = (11.4, −2.)",
       "_model_module_version": "^0.11",
       "_size": [
        1000,
        600
       ],
       "_view_module_version": "^0.11",
       "layout": "IPY_MODEL_5070f2b9044d4c38ad52d7dc636df14a",
       "toolbar": "IPY_MODEL_336e6a361c5040f8a099f370e7a5ffc8",
       "toolbar_position": "left"
      }
     },
     "21f6e0762549416b86bc0208dda593be": {
      "model_module": "@jupyter-widgets/base",
      "model_module_version": "2.0.0",
      "model_name": "LayoutModel",
      "state": {}
     },
     "2eb303063055474a8f256ff7ac6be67b": {
      "model_module": "jupyter-matplotlib",
      "model_module_version": "^0.11",
      "model_name": "ToolbarModel",
      "state": {
       "_model_module_version": "^0.11",
       "_view_module_version": "^0.11",
       "collapsed": true,
       "layout": "IPY_MODEL_9dc8827e160245e49f0cb9a4c34848c6",
       "orientation": "vertical",
       "toolitems": [
        [
         "Home",
         "Reset original view",
         "home",
         "home"
        ],
        [
         "Back",
         "Back to previous view",
         "arrow-left",
         "back"
        ],
        [
         "Forward",
         "Forward to next view",
         "arrow-right",
         "forward"
        ],
        [
         "Pan",
         "Left button pans, Right button zooms\nx/y fixes axis, CTRL fixes aspect",
         "arrows",
         "pan"
        ],
        [
         "Zoom",
         "Zoom to rectangle\nx/y fixes axis",
         "square-o",
         "zoom"
        ],
        [
         "Download",
         "Download plot",
         "floppy-o",
         "save_figure"
        ]
       ]
      }
     },
     "336e6a361c5040f8a099f370e7a5ffc8": {
      "model_module": "jupyter-matplotlib",
      "model_module_version": "^0.11",
      "model_name": "ToolbarModel",
      "state": {
       "_model_module_version": "^0.11",
       "_view_module_version": "^0.11",
       "collapsed": true,
       "layout": "IPY_MODEL_4c477aaf6ce844458e6a0a97c6a2ff1f",
       "orientation": "vertical",
       "toolitems": [
        [
         "Home",
         "Reset original view",
         "home",
         "home"
        ],
        [
         "Back",
         "Back to previous view",
         "arrow-left",
         "back"
        ],
        [
         "Forward",
         "Forward to next view",
         "arrow-right",
         "forward"
        ],
        [
         "Pan",
         "Left button pans, Right button zooms\nx/y fixes axis, CTRL fixes aspect",
         "arrows",
         "pan"
        ],
        [
         "Zoom",
         "Zoom to rectangle\nx/y fixes axis",
         "square-o",
         "zoom"
        ],
        [
         "Download",
         "Download plot",
         "floppy-o",
         "save_figure"
        ]
       ]
      }
     },
     "386d87719c1b43b49fae0744f10b1ff4": {
      "model_module": "@jupyter-widgets/base",
      "model_module_version": "2.0.0",
      "model_name": "LayoutModel",
      "state": {}
     },
     "3cc9ab817e6c4432afd906bb00f3304a": {
      "model_module": "@jupyter-widgets/base",
      "model_module_version": "2.0.0",
      "model_name": "LayoutModel",
      "state": {}
     },
     "41ff4c1307d64bd383ec973f17f9986c": {
      "model_module": "@jupyter-widgets/base",
      "model_module_version": "2.0.0",
      "model_name": "LayoutModel",
      "state": {}
     },
     "45a741f2abe24a9cb55f342d2de91398": {
      "model_module": "@jupyter-widgets/base",
      "model_module_version": "2.0.0",
      "model_name": "LayoutModel",
      "state": {}
     },
     "4c477aaf6ce844458e6a0a97c6a2ff1f": {
      "model_module": "@jupyter-widgets/base",
      "model_module_version": "2.0.0",
      "model_name": "LayoutModel",
      "state": {}
     },
     "5070f2b9044d4c38ad52d7dc636df14a": {
      "model_module": "@jupyter-widgets/base",
      "model_module_version": "2.0.0",
      "model_name": "LayoutModel",
      "state": {}
     },
     "52201fbca71d44009f733e30038f2c9a": {
      "model_module": "jupyter-matplotlib",
      "model_module_version": "^0.11",
      "model_name": "ToolbarModel",
      "state": {
       "_model_module_version": "^0.11",
       "_view_module_version": "^0.11",
       "collapsed": true,
       "layout": "IPY_MODEL_21f6e0762549416b86bc0208dda593be",
       "orientation": "vertical",
       "toolitems": [
        [
         "Home",
         "Reset original view",
         "home",
         "home"
        ],
        [
         "Back",
         "Back to previous view",
         "arrow-left",
         "back"
        ],
        [
         "Forward",
         "Forward to next view",
         "arrow-right",
         "forward"
        ],
        [
         "Pan",
         "Left button pans, Right button zooms\nx/y fixes axis, CTRL fixes aspect",
         "arrows",
         "pan"
        ],
        [
         "Zoom",
         "Zoom to rectangle\nx/y fixes axis",
         "square-o",
         "zoom"
        ],
        [
         "Download",
         "Download plot",
         "floppy-o",
         "save_figure"
        ]
       ]
      }
     },
     "522e60e7545e46cc9a56892b634675d0": {
      "model_module": "jupyter-matplotlib",
      "model_module_version": "^0.11",
      "model_name": "ToolbarModel",
      "state": {
       "_model_module_version": "^0.11",
       "_view_module_version": "^0.11",
       "collapsed": true,
       "layout": "IPY_MODEL_bc591c4e47ac4106987d4960f6ba0f06",
       "orientation": "vertical",
       "toolitems": [
        [
         "Home",
         "Reset original view",
         "home",
         "home"
        ],
        [
         "Back",
         "Back to previous view",
         "arrow-left",
         "back"
        ],
        [
         "Forward",
         "Forward to next view",
         "arrow-right",
         "forward"
        ],
        [
         "Pan",
         "Left button pans, Right button zooms\nx/y fixes axis, CTRL fixes aspect",
         "arrows",
         "pan"
        ],
        [
         "Zoom",
         "Zoom to rectangle\nx/y fixes axis",
         "square-o",
         "zoom"
        ],
        [
         "Download",
         "Download plot",
         "floppy-o",
         "save_figure"
        ]
       ]
      }
     },
     "53d2eed66a1c4cb4bb20064a1d04cccf": {
      "model_module": "jupyter-matplotlib",
      "model_module_version": "^0.11",
      "model_name": "ToolbarModel",
      "state": {
       "_model_module_version": "^0.11",
       "_view_module_version": "^0.11",
       "collapsed": true,
       "layout": "IPY_MODEL_04eff5213a5d40c8b99e64529340679d",
       "orientation": "vertical",
       "toolitems": [
        [
         "Home",
         "Reset original view",
         "home",
         "home"
        ],
        [
         "Back",
         "Back to previous view",
         "arrow-left",
         "back"
        ],
        [
         "Forward",
         "Forward to next view",
         "arrow-right",
         "forward"
        ],
        [
         "Pan",
         "Left button pans, Right button zooms\nx/y fixes axis, CTRL fixes aspect",
         "arrows",
         "pan"
        ],
        [
         "Zoom",
         "Zoom to rectangle\nx/y fixes axis",
         "square-o",
         "zoom"
        ],
        [
         "Download",
         "Download plot",
         "floppy-o",
         "save_figure"
        ]
       ]
      }
     },
     "61bf106b183a46429caef0b2e1d4b045": {
      "model_module": "@jupyter-widgets/base",
      "model_module_version": "2.0.0",
      "model_name": "LayoutModel",
      "state": {}
     },
     "64017ef0e18c469d8b1e61a8ba8c42d5": {
      "model_module": "jupyter-matplotlib",
      "model_module_version": "^0.11",
      "model_name": "ToolbarModel",
      "state": {
       "_model_module_version": "^0.11",
       "_view_module_version": "^0.11",
       "collapsed": true,
       "layout": "IPY_MODEL_cabb110dbffb40fda979bbf16a435e77",
       "orientation": "vertical",
       "toolitems": [
        [
         "Home",
         "Reset original view",
         "home",
         "home"
        ],
        [
         "Back",
         "Back to previous view",
         "arrow-left",
         "back"
        ],
        [
         "Forward",
         "Forward to next view",
         "arrow-right",
         "forward"
        ],
        [
         "Pan",
         "Left button pans, Right button zooms\nx/y fixes axis, CTRL fixes aspect",
         "arrows",
         "pan"
        ],
        [
         "Zoom",
         "Zoom to rectangle\nx/y fixes axis",
         "square-o",
         "zoom"
        ],
        [
         "Download",
         "Download plot",
         "floppy-o",
         "save_figure"
        ]
       ]
      }
     },
     "7617b78fb82b4eb89dd5b31afbfcfec8": {
      "model_module": "@jupyter-widgets/base",
      "model_module_version": "2.0.0",
      "model_name": "LayoutModel",
      "state": {}
     },
     "86bdf08c57ca423d864f432d06612166": {
      "model_module": "@jupyter-widgets/base",
      "model_module_version": "2.0.0",
      "model_name": "LayoutModel",
      "state": {}
     },
     "87ad3c66679340d885962e0f890fda67": {
      "model_module": "jupyter-matplotlib",
      "model_module_version": "^0.11",
      "model_name": "ToolbarModel",
      "state": {
       "_model_module_version": "^0.11",
       "_view_module_version": "^0.11",
       "collapsed": true,
       "layout": "IPY_MODEL_86bdf08c57ca423d864f432d06612166",
       "orientation": "vertical",
       "toolitems": [
        [
         "Home",
         "Reset original view",
         "home",
         "home"
        ],
        [
         "Back",
         "Back to previous view",
         "arrow-left",
         "back"
        ],
        [
         "Forward",
         "Forward to next view",
         "arrow-right",
         "forward"
        ],
        [
         "Pan",
         "Left button pans, Right button zooms\nx/y fixes axis, CTRL fixes aspect",
         "arrows",
         "pan"
        ],
        [
         "Zoom",
         "Zoom to rectangle\nx/y fixes axis",
         "square-o",
         "zoom"
        ],
        [
         "Download",
         "Download plot",
         "floppy-o",
         "save_figure"
        ]
       ]
      }
     },
     "87cb51e9ab5d431d8226630716849719": {
      "model_module": "@jupyter-widgets/base",
      "model_module_version": "2.0.0",
      "model_name": "LayoutModel",
      "state": {}
     },
     "8c4adb84dd724a9f8ec02c154ccbaf21": {
      "model_module": "@jupyter-widgets/base",
      "model_module_version": "2.0.0",
      "model_name": "LayoutModel",
      "state": {}
     },
     "901b507dc4a3467ea1fac1b6ca6bd52a": {
      "model_module": "@jupyter-widgets/base",
      "model_module_version": "2.0.0",
      "model_name": "LayoutModel",
      "state": {}
     },
     "93dde1894abc454a81def009dd492390": {
      "model_module": "@jupyter-widgets/base",
      "model_module_version": "2.0.0",
      "model_name": "LayoutModel",
      "state": {}
     },
     "9dc8827e160245e49f0cb9a4c34848c6": {
      "model_module": "@jupyter-widgets/base",
      "model_module_version": "2.0.0",
      "model_name": "LayoutModel",
      "state": {}
     },
     "b22cdeb5314b466baf30c66116ccb897": {
      "model_module": "jupyter-matplotlib",
      "model_module_version": "^0.11",
      "model_name": "ToolbarModel",
      "state": {
       "_model_module_version": "^0.11",
       "_view_module_version": "^0.11",
       "collapsed": true,
       "layout": "IPY_MODEL_f2fa9dd54bb044c999fd21c0d697e337",
       "orientation": "vertical",
       "toolitems": [
        [
         "Home",
         "Reset original view",
         "home",
         "home"
        ],
        [
         "Back",
         "Back to previous view",
         "arrow-left",
         "back"
        ],
        [
         "Forward",
         "Forward to next view",
         "arrow-right",
         "forward"
        ],
        [
         "Pan",
         "Left button pans, Right button zooms\nx/y fixes axis, CTRL fixes aspect",
         "arrows",
         "pan"
        ],
        [
         "Zoom",
         "Zoom to rectangle\nx/y fixes axis",
         "square-o",
         "zoom"
        ],
        [
         "Download",
         "Download plot",
         "floppy-o",
         "save_figure"
        ]
       ]
      }
     },
     "bc591c4e47ac4106987d4960f6ba0f06": {
      "model_module": "@jupyter-widgets/base",
      "model_module_version": "2.0.0",
      "model_name": "LayoutModel",
      "state": {}
     },
     "bd2f76a4b4d841728ee8bb5da9cb9637": {
      "model_module": "@jupyter-widgets/base",
      "model_module_version": "2.0.0",
      "model_name": "LayoutModel",
      "state": {}
     },
     "c0f0dfc0933044a4af8282259962b19e": {
      "model_module": "@jupyter-widgets/base",
      "model_module_version": "2.0.0",
      "model_name": "LayoutModel",
      "state": {}
     },
     "c3e1bfe1b5c14b7083545c501a80a1aa": {
      "model_module": "@jupyter-widgets/base",
      "model_module_version": "2.0.0",
      "model_name": "LayoutModel",
      "state": {}
     },
     "c9b99b3ff04e4892a19cfd27feb6b2b3": {
      "model_module": "@jupyter-widgets/base",
      "model_module_version": "2.0.0",
      "model_name": "LayoutModel",
      "state": {}
     },
     "cabb110dbffb40fda979bbf16a435e77": {
      "model_module": "@jupyter-widgets/base",
      "model_module_version": "2.0.0",
      "model_name": "LayoutModel",
      "state": {}
     },
     "dd7a72e4ed944748b53ac80dde023ab0": {
      "model_module": "jupyter-matplotlib",
      "model_module_version": "^0.11",
      "model_name": "ToolbarModel",
      "state": {
       "_model_module_version": "^0.11",
       "_view_module_version": "^0.11",
       "collapsed": true,
       "layout": "IPY_MODEL_45a741f2abe24a9cb55f342d2de91398",
       "orientation": "vertical",
       "toolitems": [
        [
         "Home",
         "Reset original view",
         "home",
         "home"
        ],
        [
         "Back",
         "Back to previous view",
         "arrow-left",
         "back"
        ],
        [
         "Forward",
         "Forward to next view",
         "arrow-right",
         "forward"
        ],
        [
         "Pan",
         "Left button pans, Right button zooms\nx/y fixes axis, CTRL fixes aspect",
         "arrows",
         "pan"
        ],
        [
         "Zoom",
         "Zoom to rectangle\nx/y fixes axis",
         "square-o",
         "zoom"
        ],
        [
         "Download",
         "Download plot",
         "floppy-o",
         "save_figure"
        ]
       ]
      }
     },
     "e11cb8e1feb54f6892cb7692a89802df": {
      "model_module": "jupyter-matplotlib",
      "model_module_version": "^0.11",
      "model_name": "ToolbarModel",
      "state": {
       "_model_module_version": "^0.11",
       "_view_module_version": "^0.11",
       "collapsed": true,
       "layout": "IPY_MODEL_bd2f76a4b4d841728ee8bb5da9cb9637",
       "orientation": "vertical",
       "toolitems": [
        [
         "Home",
         "Reset original view",
         "home",
         "home"
        ],
        [
         "Back",
         "Back to previous view",
         "arrow-left",
         "back"
        ],
        [
         "Forward",
         "Forward to next view",
         "arrow-right",
         "forward"
        ],
        [
         "Pan",
         "Left button pans, Right button zooms\nx/y fixes axis, CTRL fixes aspect",
         "arrows",
         "pan"
        ],
        [
         "Zoom",
         "Zoom to rectangle\nx/y fixes axis",
         "square-o",
         "zoom"
        ],
        [
         "Download",
         "Download plot",
         "floppy-o",
         "save_figure"
        ]
       ]
      }
     },
     "e964ad5ec74649c4855e05bf52ea8e70": {
      "model_module": "@jupyter-widgets/base",
      "model_module_version": "2.0.0",
      "model_name": "LayoutModel",
      "state": {}
     },
     "f2fa9dd54bb044c999fd21c0d697e337": {
      "model_module": "@jupyter-widgets/base",
      "model_module_version": "2.0.0",
      "model_name": "LayoutModel",
      "state": {}
     },
     "f69990b51e544069b69e53ab5e5a9e88": {
      "model_module": "@jupyter-widgets/base",
      "model_module_version": "2.0.0",
      "model_name": "LayoutModel",
      "state": {}
     },
     "fca489e7eeed46c5ba6166f20afe6eb2": {
      "model_module": "jupyter-matplotlib",
      "model_module_version": "^0.11",
      "model_name": "ToolbarModel",
      "state": {
       "_model_module_version": "^0.11",
       "_view_module_version": "^0.11",
       "collapsed": true,
       "layout": "IPY_MODEL_f69990b51e544069b69e53ab5e5a9e88",
       "orientation": "vertical",
       "toolitems": [
        [
         "Home",
         "Reset original view",
         "home",
         "home"
        ],
        [
         "Back",
         "Back to previous view",
         "arrow-left",
         "back"
        ],
        [
         "Forward",
         "Forward to next view",
         "arrow-right",
         "forward"
        ],
        [
         "Pan",
         "Left button pans, Right button zooms\nx/y fixes axis, CTRL fixes aspect",
         "arrows",
         "pan"
        ],
        [
         "Zoom",
         "Zoom to rectangle\nx/y fixes axis",
         "square-o",
         "zoom"
        ],
        [
         "Download",
         "Download plot",
         "floppy-o",
         "save_figure"
        ]
       ]
      }
     }
    },
    "version_major": 2,
    "version_minor": 0
   }
  }
 },
 "nbformat": 4,
 "nbformat_minor": 5
}
